{
 "cells": [
  {
   "cell_type": "code",
   "execution_count": 8,
   "metadata": {
    "collapsed": false
   },
   "outputs": [
    {
     "name": "stdout",
     "output_type": "stream",
     "text": [
      "Numpy version:        1.10.4 (need at least 1.7.1)\n",
      "SciPy version:        0.17.0 (need at least 0.12.0)\n",
      "Pandas version:       0.18.0 (need at least 0.11.0)\n",
      "Mapltolib version:     1.5.1 (need at least 1.2.1)\n",
      "Scikit-Learn version: 0.17.1 (need at least 0.13.1)\n",
      "requests version:      2.9.1 (need at least 1.2.3)\n",
      "NetworkX version:       1.11 (need at least 1.7)\n"
     ]
    }
   ],
   "source": [
    "# Numpy is a library for working with Arrays\n",
    "import numpy as np\n",
    "print (\"Numpy version:        %6.6s (need at least 1.7.1)\" % np.__version__)\n",
    "\n",
    "# SciPy implements many different numerical algorithms\n",
    "import scipy as sp\n",
    "print (\"SciPy version:        %6.6s (need at least 0.12.0)\" % sp.__version__)\n",
    "\n",
    "# Pandas makes working with data tables easier\n",
    "import pandas as pd\n",
    "print (\"Pandas version:       %6.6s (need at least 0.11.0)\" % pd.__version__)\n",
    "\n",
    "# Module for plotting\n",
    "import matplotlib\n",
    "print (\"Mapltolib version:    %6.6s (need at least 1.2.1)\" % matplotlib.__version__)\n",
    "\n",
    "# SciKit Learn implements several Machine Learning algorithms\n",
    "import sklearn\n",
    "print (\"Scikit-Learn version: %6.6s (need at least 0.13.1)\" % sklearn.__version__)\n",
    "\n",
    "# Requests is a library for getting data from the Web\n",
    "import requests\n",
    "print (\"requests version:     %6.6s (need at least 1.2.3)\" % requests.__version__)\n",
    "\n",
    "# Networkx is a library for working with networks\n",
    "import networkx as nx\n",
    "print (\"NetworkX version:     %6.6s (need at least 1.7)\" % nx.__version__)"
   ]
  },
  {
   "cell_type": "code",
   "execution_count": 19,
   "metadata": {
    "collapsed": true
   },
   "outputs": [],
   "source": [
    "%matplotlib inline"
   ]
  },
  {
   "cell_type": "code",
   "execution_count": 20,
   "metadata": {
    "collapsed": false
   },
   "outputs": [
    {
     "data": {
      "text/plain": [
       "<matplotlib.text.Text at 0x25a052d2cc0>"
      ]
     },
     "execution_count": 20,
     "metadata": {},
     "output_type": "execute_result"
    },
    {
     "data": {
      "image/png": "[encoded data removed]",
      "text/plain": [
       "<matplotlib.figure.Figure at 0x25a0525dc50>"
      ]
     },
     "metadata": {},
     "output_type": "display_data"
    }
   ],
   "source": [
    "import matplotlib.pyplot as plt  \n",
    "\n",
    "x = np.linspace(0, 10, 30)  #array of 30 points from 0 to 10\n",
    "y = np.sin(x)\n",
    "z = y + np.random.normal(size=30) * .2\n",
    "plt.plot(x, y, 'ro-', label='A sine wave')\n",
    "plt.plot(x, z, 'b-', label='Noisy sine')\n",
    "plt.legend(loc = 'lower right')\n",
    "plt.xlabel(\"X axis\")\n",
    "plt.ylabel(\"Y axis\")     "
   ]
  },
  {
   "cell_type": "code",
   "execution_count": 29,
   "metadata": {
    "collapsed": false
   },
   "outputs": [
    {
     "data": {
      "text/plain": [
       "(array([  1.,   0.,   0.,   0.,   0.,   0.,   0.,   0.,   0.,   0.,   2.,\n",
       "          0.,   0.,   0.,   0.,   5.,   0.,   0.,   0.,   0.,   0.,   2.,\n",
       "          0.,   3.,   0.,   3.,   0.,   5.,   0.,   0.,   6.,   0.,   9.,\n",
       "          0.,   9.,   0.,  13.,   0.,  18.,   0.,  11.,   0.,  15.,   0.,\n",
       "          0.,  15.,   0.,  19.,   0.,  17.,   0.,  29.,   0.,  38.,   0.,\n",
       "         40.,   0.,  38.,   0.,   0.,  25.,   0.,  48.,   0.,  41.,   0.,\n",
       "         48.,   0.,  54.,   0.,  53.,   0.,  50.,   0.,   0.,  52.,   0.,\n",
       "         57.,   0.,  52.,   0.,  47.,   0.,  53.,   0.,  53.,   0.,  59.,\n",
       "          0.,   0.,  52.,   0.,  42.,   0.,  42.,   0.,  44.,   0.,  35.,\n",
       "          0.,  36.,   0.,  25.,   0.,   0.,  27.,   0.,  32.,   0.,  22.,\n",
       "          0.,  27.,   0.,  18.,   0.,  19.,   0.,  16.,   0.,   0.,  16.,\n",
       "          0.,   8.,   0.,  10.,   0.,   3.,   0.,  11.,   0.,   2.,   0.,\n",
       "          4.,   0.,   0.,   2.,   0.,   4.,   0.,   2.,   0.,   6.,   0.,\n",
       "          2.,   0.,   0.,   0.,   2.,   0.,   1.]),\n",
       " array([ 213.        ,  213.46666667,  213.93333333,  214.4       ,\n",
       "         214.86666667,  215.33333333,  215.8       ,  216.26666667,\n",
       "         216.73333333,  217.2       ,  217.66666667,  218.13333333,\n",
       "         218.6       ,  219.06666667,  219.53333333,  220.        ,\n",
       "         220.46666667,  220.93333333,  221.4       ,  221.86666667,\n",
       "         222.33333333,  222.8       ,  223.26666667,  223.73333333,\n",
       "         224.2       ,  224.66666667,  225.13333333,  225.6       ,\n",
       "         226.06666667,  226.53333333,  227.        ,  227.46666667,\n",
       "         227.93333333,  228.4       ,  228.86666667,  229.33333333,\n",
       "         229.8       ,  230.26666667,  230.73333333,  231.2       ,\n",
       "         231.66666667,  232.13333333,  232.6       ,  233.06666667,\n",
       "         233.53333333,  234.        ,  234.46666667,  234.93333333,\n",
       "         235.4       ,  235.86666667,  236.33333333,  236.8       ,\n",
       "         237.26666667,  237.73333333,  238.2       ,  238.66666667,\n",
       "         239.13333333,  239.6       ,  240.06666667,  240.53333333,\n",
       "         241.        ,  241.46666667,  241.93333333,  242.4       ,\n",
       "         242.86666667,  243.33333333,  243.8       ,  244.26666667,\n",
       "         244.73333333,  245.2       ,  245.66666667,  246.13333333,\n",
       "         246.6       ,  247.06666667,  247.53333333,  248.        ,\n",
       "         248.46666667,  248.93333333,  249.4       ,  249.86666667,\n",
       "         250.33333333,  250.8       ,  251.26666667,  251.73333333,\n",
       "         252.2       ,  252.66666667,  253.13333333,  253.6       ,\n",
       "         254.06666667,  254.53333333,  255.        ,  255.46666667,\n",
       "         255.93333333,  256.4       ,  256.86666667,  257.33333333,\n",
       "         257.8       ,  258.26666667,  258.73333333,  259.2       ,\n",
       "         259.66666667,  260.13333333,  260.6       ,  261.06666667,\n",
       "         261.53333333,  262.        ,  262.46666667,  262.93333333,\n",
       "         263.4       ,  263.86666667,  264.33333333,  264.8       ,\n",
       "         265.26666667,  265.73333333,  266.2       ,  266.66666667,\n",
       "         267.13333333,  267.6       ,  268.06666667,  268.53333333,\n",
       "         269.        ,  269.46666667,  269.93333333,  270.4       ,\n",
       "         270.86666667,  271.33333333,  271.8       ,  272.26666667,\n",
       "         272.73333333,  273.2       ,  273.66666667,  274.13333333,\n",
       "         274.6       ,  275.06666667,  275.53333333,  276.        ,\n",
       "         276.46666667,  276.93333333,  277.4       ,  277.86666667,\n",
       "         278.33333333,  278.8       ,  279.26666667,  279.73333333,\n",
       "         280.2       ,  280.66666667,  281.13333333,  281.6       ,\n",
       "         282.06666667,  282.53333333,  283.        ]),\n",
       " <a list of 150 Patch objects>)"
      ]
     },
     "execution_count": 29,
     "metadata": {},
     "output_type": "execute_result"
    },
    {
     "data": {
      "image/png": "[encoded data removed]",
      "text/plain": [
       "<matplotlib.figure.Figure at 0x25a069ab6d8>"
      ]
     },
     "metadata": {},
     "output_type": "display_data"
    }
   ],
   "source": [
    "plt.hist(np.random.binomial(500, .5, size=1500), bins=150)"
   ]
  },
  {
   "cell_type": "code",
   "execution_count": null,
   "metadata": {
    "collapsed": true
   },
   "outputs": [],
   "source": []
  }
 ],
 "metadata": {
  "kernelspec": {
   "display_name": "Python 3",
   "language": "python",
   "name": "python3"
  },
  "language_info": {
   "codemirror_mode": {
    "name": "ipython",
    "version": 3
   },
   "file_extension": ".py",
   "mimetype": "text/x-python",
   "name": "python",
   "nbconvert_exporter": "python",
   "pygments_lexer": "ipython3",
   "version": "3.5.1"
  }
 },
 "nbformat": 4,
 "nbformat_minor": 0
}
