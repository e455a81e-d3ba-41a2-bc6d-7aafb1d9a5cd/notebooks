{
 "cells": [
  {
   "cell_type": "code",
   "execution_count": 3,
   "metadata": {
    "collapsed": true
   },
   "outputs": [],
   "source": [
    "%matplotlib inline"
   ]
  },
  {
   "cell_type": "code",
   "execution_count": 4,
   "metadata": {
    "collapsed": false
   },
   "outputs": [
    {
     "name": "stdout",
     "output_type": "stream",
     "text": [
      "[12, 7, 22, 2, 11, 10, 3, 15, 16, 6, 4, 5, 23, 17, 19, 9, 27, 21, 13, 8, 20, 25, 24, 0, 1, 14, 18, 28, 26]\n"
     ]
    }
   ],
   "source": [
    "from random import shuffle\n",
    "a = [x for x in range(29)]\n",
    "shuffle(a)\n",
    "print(a)"
   ]
  },
  {
   "cell_type": "code",
   "execution_count": 5,
   "metadata": {
    "collapsed": false
   },
   "outputs": [],
   "source": [
    "list = [x for x in range(20)]"
   ]
  },
  {
   "cell_type": "code",
   "execution_count": 6,
   "metadata": {
    "collapsed": false
   },
   "outputs": [
    {
     "data": {
      "text/plain": [
       "[4, 5, 6, 7, 8, 9, 10, 11, 12, 13, 14, 15, 16, 17]"
      ]
     },
     "execution_count": 6,
     "metadata": {},
     "output_type": "execute_result"
    }
   ],
   "source": [
    "list[4:-2]"
   ]
  },
  {
   "cell_type": "code",
   "execution_count": 7,
   "metadata": {
    "collapsed": false
   },
   "outputs": [
    {
     "data": {
      "text/plain": [
       "[19, 18, 17, 16, 15, 14, 13, 12, 11, 10, 9, 8, 7, 6, 5, 4, 3, 2, 1, 0]"
      ]
     },
     "execution_count": 7,
     "metadata": {},
     "output_type": "execute_result"
    }
   ],
   "source": [
    "list[::-1]"
   ]
  },
  {
   "cell_type": "code",
   "execution_count": 8,
   "metadata": {
    "collapsed": true
   },
   "outputs": [],
   "source": [
    "string = \"abcdefgßöäü\""
   ]
  },
  {
   "cell_type": "code",
   "execution_count": 9,
   "metadata": {
    "collapsed": false
   },
   "outputs": [
    {
     "data": {
      "text/plain": [
       "'acegöü'"
      ]
     },
     "execution_count": 9,
     "metadata": {},
     "output_type": "execute_result"
    }
   ],
   "source": [
    "string[::2]"
   ]
  },
  {
   "cell_type": "code",
   "execution_count": 10,
   "metadata": {
    "collapsed": false
   },
   "outputs": [],
   "source": [
    "import matplotlib.pyplot as plt\n",
    "import numpy as np\n"
   ]
  },
  {
   "cell_type": "code",
   "execution_count": 11,
   "metadata": {
    "collapsed": true
   },
   "outputs": [],
   "source": [
    "x = [0,1,2]\n",
    "y = [0,1,4]"
   ]
  },
  {
   "cell_type": "code",
   "execution_count": 12,
   "metadata": {
    "collapsed": false
   },
   "outputs": [
    {
     "data": {
      "image/png": "[encoded data removed]",
      "text/plain": [
       "<matplotlib.figure.Figure at 0x12aa4a35f28>"
      ]
     },
     "metadata": {},
     "output_type": "display_data"
    }
   ],
   "source": [
    "fig = plt.figure()\n",
    "axes = fig.add_subplot(111)\n",
    "\n",
    "axes.plot(x,y)\n",
    "plt.show()"
   ]
  },
  {
   "cell_type": "code",
   "execution_count": 13,
   "metadata": {
    "collapsed": false
   },
   "outputs": [],
   "source": [
    "x_highres = np.linspace(0,2,20)\n",
    "y_highres = x_highres ** 2"
   ]
  },
  {
   "cell_type": "code",
   "execution_count": 14,
   "metadata": {
    "collapsed": false
   },
   "outputs": [
    {
     "data": {
      "image/png": "[encoded data removed]",
      "text/plain": [
       "<matplotlib.figure.Figure at 0x12aa4ad0a20>"
      ]
     },
     "metadata": {},
     "output_type": "display_data"
    }
   ],
   "source": [
    "fig = plt.figure()\n",
    "axes = fig.add_subplot(111)\n",
    "\n",
    "axes.plot(x,y)\n",
    "axes.plot(x_highres,y_highres)\n",
    "plt.show()"
   ]
  },
  {
   "cell_type": "code",
   "execution_count": 15,
   "metadata": {
    "collapsed": false
   },
   "outputs": [
    {
     "data": {
      "image/png": "[encoded data removed]",
      "text/plain": [
       "<matplotlib.figure.Figure at 0x12aa4ee7c50>"
      ]
     },
     "metadata": {},
     "output_type": "display_data"
    }
   ],
   "source": [
    "fig = plt.figure()\n",
    "axes = fig.add_subplot(111)\n",
    "\n",
    "axes.plot(x_highres,y_highres, color=\"red\", linestyle=\"dashed\")\n",
    "\n",
    "plt.show()"
   ]
  },
  {
   "cell_type": "code",
   "execution_count": 16,
   "metadata": {
    "collapsed": false
   },
   "outputs": [
    {
     "data": {
      "image/png": "[encoded data removed]",
      "text/plain": [
       "<matplotlib.figure.Figure at 0x12aa4f12b38>"
      ]
     },
     "metadata": {},
     "output_type": "display_data"
    }
   ],
   "source": [
    "fig = plt.figure()\n",
    "axes = fig.add_subplot(111)\n",
    "\n",
    "axes.plot(x_highres,y_highres, color=\"red\", linestyle=\"dashed\", linewidth=3)\n",
    "\n",
    "plt.show()"
   ]
  },
  {
   "cell_type": "code",
   "execution_count": 17,
   "metadata": {
    "collapsed": false
   },
   "outputs": [
    {
     "data": {
      "image/png": "[encoded data removed]",
      "text/plain": [
       "<matplotlib.figure.Figure at 0x12aa4f68358>"
      ]
     },
     "metadata": {},
     "output_type": "display_data"
    }
   ],
   "source": [
    "fig = plt.figure(figsize=(12,8))\n",
    "axes = fig.add_subplot(111)\n",
    "\n",
    "axes.set_title(\"$x=x^2$\")\n",
    "axes.plot(x_highres,y_highres, color=\"red\", linestyle=\"dashed\", linewidth=3, marker='o', markerfacecolor=\"blue\", markersize=5)\n",
    "axes.set_xlabel(\"x\")\n",
    "axes.set_ylabel(\"y\")\n",
    "\n",
    "plt.show()"
   ]
  },
  {
   "cell_type": "code",
   "execution_count": 18,
   "metadata": {
    "collapsed": false
   },
   "outputs": [
    {
     "data": {
      "text/plain": [
       "array([[ 0.8486938 ,  0.02259437,  0.68704302, ...,  0.78647367,\n",
       "         0.93228323,  0.3679443 ],\n",
       "       [ 0.96514425,  0.07657451,  0.21081146, ...,  0.24882337,\n",
       "         0.03821685,  0.44788931],\n",
       "       [ 0.01427916,  0.80260886,  0.82234006, ...,  0.19513785,\n",
       "         0.93127725,  0.02433297],\n",
       "       ..., \n",
       "       [ 0.43412737,  0.0989678 ,  0.87126846, ...,  0.16649823,\n",
       "         0.76557892,  0.97702183],\n",
       "       [ 0.99829695,  0.62693076,  0.12359849, ...,  0.04468652,\n",
       "         0.98418427,  0.00162657],\n",
       "       [ 0.93440474,  0.04353431,  0.90532619, ...,  0.42626934,\n",
       "         0.45768157,  0.8272501 ]])"
      ]
     },
     "execution_count": 18,
     "metadata": {},
     "output_type": "execute_result"
    }
   ],
   "source": [
    "noise = np.random.random((128,128))\n",
    "noise"
   ]
  },
  {
   "cell_type": "code",
   "execution_count": 19,
   "metadata": {
    "collapsed": false
   },
   "outputs": [
    {
     "data": {
      "image/png": "[encoded data removed]",
      "text/plain": [
       "<matplotlib.figure.Figure at 0x12aa503ac50>"
      ]
     },
     "metadata": {},
     "output_type": "display_data"
    }
   ],
   "source": [
    "plt.imshow(noise)\n",
    "plt.colorbar()\n",
    "plt.show()"
   ]
  },
  {
   "cell_type": "code",
   "execution_count": 20,
   "metadata": {
    "collapsed": false
   },
   "outputs": [
    {
     "data": {
      "image/png": "[encoded data removed]",
      "text/plain": [
       "<matplotlib.figure.Figure at 0x12aa4f474a8>"
      ]
     },
     "metadata": {},
     "output_type": "display_data"
    }
   ],
   "source": [
    "plt.imshow(noise, cmap=plt.cm.gray)\n",
    "plt.colorbar()\n",
    "plt.show()"
   ]
  },
  {
   "cell_type": "code",
   "execution_count": 21,
   "metadata": {
    "collapsed": false
   },
   "outputs": [
    {
     "data": {
      "image/png": "[encoded data removed]",
      "text/plain": [
       "<matplotlib.figure.Figure at 0x12aa4f38400>"
      ]
     },
     "metadata": {},
     "output_type": "display_data"
    }
   ],
   "source": [
    "plt.imshow(noise, cmap=plt.cm.Paired)\n",
    "plt.colorbar()\n",
    "plt.show()"
   ]
  },
  {
   "cell_type": "code",
   "execution_count": 22,
   "metadata": {
    "collapsed": false
   },
   "outputs": [],
   "source": [
    "#from ipywidgets import widgets\n",
    "#from ipywidgets import interact\n",
    "#from ipywidgets import display"
   ]
  },
  {
   "cell_type": "code",
   "execution_count": 23,
   "metadata": {
    "collapsed": true
   },
   "outputs": [],
   "source": [
    "import pandas as pd"
   ]
  },
  {
   "cell_type": "code",
   "execution_count": 24,
   "metadata": {
    "collapsed": false
   },
   "outputs": [
    {
     "data": {
      "text/plain": [
       "0    1\n",
       "1    2\n",
       "2    3\n",
       "3    4\n",
       "4    5\n",
       "dtype: int64"
      ]
     },
     "execution_count": 24,
     "metadata": {},
     "output_type": "execute_result"
    }
   ],
   "source": [
    "x = pd.Series([1,2,3,4,5])\n",
    "x"
   ]
  },
  {
   "cell_type": "code",
   "execution_count": 25,
   "metadata": {
    "collapsed": false
   },
   "outputs": [
    {
     "data": {
      "text/plain": [
       "0    101\n",
       "1    102\n",
       "2    103\n",
       "3    104\n",
       "4    105\n",
       "dtype: int64"
      ]
     },
     "execution_count": 25,
     "metadata": {},
     "output_type": "execute_result"
    }
   ],
   "source": [
    "x + 100"
   ]
  },
  {
   "cell_type": "code",
   "execution_count": 26,
   "metadata": {
    "collapsed": false
   },
   "outputs": [
    {
     "data": {
      "text/plain": [
       "0    101\n",
       "1    104\n",
       "2    109\n",
       "3    116\n",
       "4    125\n",
       "dtype: int64"
      ]
     },
     "execution_count": 26,
     "metadata": {},
     "output_type": "execute_result"
    }
   ],
   "source": [
    "(x ** 2) + 100"
   ]
  },
  {
   "cell_type": "code",
   "execution_count": 27,
   "metadata": {
    "collapsed": false
   },
   "outputs": [
    {
     "data": {
      "text/plain": [
       "0    False\n",
       "1    False\n",
       "2     True\n",
       "3     True\n",
       "4     True\n",
       "dtype: bool"
      ]
     },
     "execution_count": 27,
     "metadata": {},
     "output_type": "execute_result"
    }
   ],
   "source": [
    "x > 2"
   ]
  },
  {
   "cell_type": "code",
   "execution_count": 28,
   "metadata": {
    "collapsed": false
   },
   "outputs": [
    {
     "data": {
      "text/plain": [
       "0    False\n",
       "1    False\n",
       "2     True\n",
       "3     True\n",
       "4     True\n",
       "dtype: bool"
      ]
     },
     "execution_count": 28,
     "metadata": {},
     "output_type": "execute_result"
    }
   ],
   "source": [
    "larger_than2 = x > 2\n",
    "larger_than2"
   ]
  },
  {
   "cell_type": "code",
   "execution_count": 29,
   "metadata": {
    "collapsed": false
   },
   "outputs": [
    {
     "data": {
      "text/plain": [
       "True"
      ]
     },
     "execution_count": 29,
     "metadata": {},
     "output_type": "execute_result"
    }
   ],
   "source": [
    "larger_than2.any()"
   ]
  },
  {
   "cell_type": "code",
   "execution_count": 30,
   "metadata": {
    "collapsed": false
   },
   "outputs": [
    {
     "data": {
      "text/plain": [
       "False"
      ]
     },
     "execution_count": 30,
     "metadata": {},
     "output_type": "execute_result"
    }
   ],
   "source": [
    "larger_than2.all()"
   ]
  },
  {
   "cell_type": "code",
   "execution_count": 31,
   "metadata": {
    "collapsed": false
   },
   "outputs": [
    {
     "data": {
      "text/plain": [
       "0     3\n",
       "1     4\n",
       "2     9\n",
       "3     8\n",
       "4    15\n",
       "dtype: int64"
      ]
     },
     "execution_count": 31,
     "metadata": {},
     "output_type": "execute_result"
    }
   ],
   "source": [
    "def f(x):\n",
    "    if x % 2 == 0:\n",
    "        return x * 2\n",
    "    else:\n",
    "        return x * 3\n",
    "\n",
    "x.apply(f)"
   ]
  },
  {
   "cell_type": "code",
   "execution_count": 32,
   "metadata": {
    "collapsed": false
   },
   "outputs": [
    {
     "name": "stdout",
     "output_type": "stream",
     "text": [
      "100 loops, best of 3: 10.6 ms per loop\n"
     ]
    }
   ],
   "source": [
    "%%timeit\n",
    "ds = pd.Series(range(10000))\n",
    "ds = ds.apply(f)"
   ]
  },
  {
   "cell_type": "code",
   "execution_count": 33,
   "metadata": {
    "collapsed": false
   },
   "outputs": [
    {
     "data": {
      "text/plain": [
       "1"
      ]
     },
     "execution_count": 33,
     "metadata": {},
     "output_type": "execute_result"
    }
   ],
   "source": [
    "y = x\n",
    "y[0]"
   ]
  },
  {
   "cell_type": "code",
   "execution_count": 34,
   "metadata": {
    "collapsed": true
   },
   "outputs": [],
   "source": [
    "y[0] = 100"
   ]
  },
  {
   "cell_type": "code",
   "execution_count": 35,
   "metadata": {
    "collapsed": false
   },
   "outputs": [
    {
     "data": {
      "text/plain": [
       "0    100\n",
       "1      2\n",
       "2      3\n",
       "3      4\n",
       "4      5\n",
       "dtype: int64"
      ]
     },
     "execution_count": 35,
     "metadata": {},
     "output_type": "execute_result"
    }
   ],
   "source": [
    "y"
   ]
  },
  {
   "cell_type": "code",
   "execution_count": 36,
   "metadata": {
    "collapsed": false
   },
   "outputs": [
    {
     "data": {
      "text/plain": [
       "0    100\n",
       "1      2\n",
       "2      3\n",
       "3      4\n",
       "4      5\n",
       "dtype: int64"
      ]
     },
     "execution_count": 36,
     "metadata": {},
     "output_type": "execute_result"
    }
   ],
   "source": [
    "x"
   ]
  },
  {
   "cell_type": "code",
   "execution_count": 37,
   "metadata": {
    "collapsed": true
   },
   "outputs": [],
   "source": [
    "y = x.copy()"
   ]
  },
  {
   "cell_type": "code",
   "execution_count": 38,
   "metadata": {
    "collapsed": true
   },
   "outputs": [],
   "source": [
    "x[0] = 1"
   ]
  },
  {
   "cell_type": "code",
   "execution_count": 39,
   "metadata": {
    "collapsed": false
   },
   "outputs": [
    {
     "data": {
      "text/plain": [
       "0    1\n",
       "1    2\n",
       "2    3\n",
       "3    4\n",
       "4    5\n",
       "dtype: int64"
      ]
     },
     "execution_count": 39,
     "metadata": {},
     "output_type": "execute_result"
    }
   ],
   "source": [
    "x"
   ]
  },
  {
   "cell_type": "code",
   "execution_count": 40,
   "metadata": {
    "collapsed": false
   },
   "outputs": [
    {
     "data": {
      "text/plain": [
       "0    100\n",
       "1      2\n",
       "2      3\n",
       "3      4\n",
       "4      5\n",
       "dtype: int64"
      ]
     },
     "execution_count": 40,
     "metadata": {},
     "output_type": "execute_result"
    }
   ],
   "source": [
    "y"
   ]
  },
  {
   "cell_type": "code",
   "execution_count": 45,
   "metadata": {
    "collapsed": false
   },
   "outputs": [
    {
     "ename": "TypeError",
     "evalue": "iteration over a 0-d array",
     "output_type": "error",
     "traceback": [
      "\u001b[1;31m---------------------------------------------------------------------------\u001b[0m",
      "\u001b[1;31mTypeError\u001b[0m                                 Traceback (most recent call last)",
      "\u001b[1;32m<ipython-input-45-8c63027d6fd5>\u001b[0m in \u001b[0;36m<module>\u001b[1;34m()\u001b[0m\n\u001b[1;32m----> 1\u001b[1;33m \u001b[0mx\u001b[0m\u001b[1;33m.\u001b[0m\u001b[0mdescribe\u001b[0m\u001b[1;33m(\u001b[0m\u001b[0mpercentiles\u001b[0m\u001b[1;33m=\u001b[0m\u001b[1;36m0.5\u001b[0m\u001b[1;33m)\u001b[0m\u001b[1;33m\u001b[0m\u001b[0m\n\u001b[0m",
      "\u001b[1;32mC:\\Anaconda3\\lib\\site-packages\\pandas\\core\\generic.py\u001b[0m in \u001b[0;36mdescribe\u001b[1;34m(self, percentiles, include, exclude)\u001b[0m\n\u001b[0;32m   4869\u001b[0m \u001b[1;33m\u001b[0m\u001b[0m\n\u001b[0;32m   4870\u001b[0m         \u001b[1;32mif\u001b[0m \u001b[0mself\u001b[0m\u001b[1;33m.\u001b[0m\u001b[0mndim\u001b[0m \u001b[1;33m==\u001b[0m \u001b[1;36m1\u001b[0m\u001b[1;33m:\u001b[0m\u001b[1;33m\u001b[0m\u001b[0m\n\u001b[1;32m-> 4871\u001b[1;33m             \u001b[1;32mreturn\u001b[0m \u001b[0mdescribe_1d\u001b[0m\u001b[1;33m(\u001b[0m\u001b[0mself\u001b[0m\u001b[1;33m,\u001b[0m \u001b[0mpercentiles\u001b[0m\u001b[1;33m)\u001b[0m\u001b[1;33m\u001b[0m\u001b[0m\n\u001b[0m\u001b[0;32m   4872\u001b[0m         \u001b[1;32melif\u001b[0m \u001b[1;33m(\u001b[0m\u001b[0minclude\u001b[0m \u001b[1;32mis\u001b[0m \u001b[1;32mNone\u001b[0m\u001b[1;33m)\u001b[0m \u001b[1;32mand\u001b[0m \u001b[1;33m(\u001b[0m\u001b[0mexclude\u001b[0m \u001b[1;32mis\u001b[0m \u001b[1;32mNone\u001b[0m\u001b[1;33m)\u001b[0m\u001b[1;33m:\u001b[0m\u001b[1;33m\u001b[0m\u001b[0m\n\u001b[0;32m   4873\u001b[0m             \u001b[1;32mif\u001b[0m \u001b[0mlen\u001b[0m\u001b[1;33m(\u001b[0m\u001b[0mself\u001b[0m\u001b[1;33m.\u001b[0m\u001b[0m_get_numeric_data\u001b[0m\u001b[1;33m(\u001b[0m\u001b[1;33m)\u001b[0m\u001b[1;33m.\u001b[0m\u001b[0m_info_axis\u001b[0m\u001b[1;33m)\u001b[0m \u001b[1;33m>\u001b[0m \u001b[1;36m0\u001b[0m\u001b[1;33m:\u001b[0m\u001b[1;33m\u001b[0m\u001b[0m\n",
      "\u001b[1;32mC:\\Anaconda3\\lib\\site-packages\\pandas\\core\\generic.py\u001b[0m in \u001b[0;36mdescribe_1d\u001b[1;34m(data, percentiles)\u001b[0m\n\u001b[0;32m   4862\u001b[0m                 \u001b[1;32mreturn\u001b[0m \u001b[0mdescribe_categorical_1d\u001b[0m\u001b[1;33m(\u001b[0m\u001b[0mdata\u001b[0m\u001b[1;33m)\u001b[0m\u001b[1;33m\u001b[0m\u001b[0m\n\u001b[0;32m   4863\u001b[0m             \u001b[1;32melif\u001b[0m \u001b[0mcom\u001b[0m\u001b[1;33m.\u001b[0m\u001b[0mis_numeric_dtype\u001b[0m\u001b[1;33m(\u001b[0m\u001b[0mdata\u001b[0m\u001b[1;33m)\u001b[0m\u001b[1;33m:\u001b[0m\u001b[1;33m\u001b[0m\u001b[0m\n\u001b[1;32m-> 4864\u001b[1;33m                 \u001b[1;32mreturn\u001b[0m \u001b[0mdescribe_numeric_1d\u001b[0m\u001b[1;33m(\u001b[0m\u001b[0mdata\u001b[0m\u001b[1;33m,\u001b[0m \u001b[0mpercentiles\u001b[0m\u001b[1;33m)\u001b[0m\u001b[1;33m\u001b[0m\u001b[0m\n\u001b[0m\u001b[0;32m   4865\u001b[0m             \u001b[1;32melif\u001b[0m \u001b[0mcom\u001b[0m\u001b[1;33m.\u001b[0m\u001b[0mis_timedelta64_dtype\u001b[0m\u001b[1;33m(\u001b[0m\u001b[0mdata\u001b[0m\u001b[1;33m)\u001b[0m\u001b[1;33m:\u001b[0m\u001b[1;33m\u001b[0m\u001b[0m\n\u001b[0;32m   4866\u001b[0m                 \u001b[1;32mreturn\u001b[0m \u001b[0mdescribe_numeric_1d\u001b[0m\u001b[1;33m(\u001b[0m\u001b[0mdata\u001b[0m\u001b[1;33m,\u001b[0m \u001b[0mpercentiles\u001b[0m\u001b[1;33m)\u001b[0m\u001b[1;33m\u001b[0m\u001b[0m\n",
      "\u001b[1;32mC:\\Anaconda3\\lib\\site-packages\\pandas\\core\\generic.py\u001b[0m in \u001b[0;36mdescribe_numeric_1d\u001b[1;34m(series, percentiles)\u001b[0m\n\u001b[0;32m   4833\u001b[0m         \u001b[1;32mdef\u001b[0m \u001b[0mdescribe_numeric_1d\u001b[0m\u001b[1;33m(\u001b[0m\u001b[0mseries\u001b[0m\u001b[1;33m,\u001b[0m \u001b[0mpercentiles\u001b[0m\u001b[1;33m)\u001b[0m\u001b[1;33m:\u001b[0m\u001b[1;33m\u001b[0m\u001b[0m\n\u001b[0;32m   4834\u001b[0m             stat_index = (['count', 'mean', 'std', 'min'] +\n\u001b[1;32m-> 4835\u001b[1;33m                           [pretty_name(x) for x in percentiles] + ['max'])\n\u001b[0m\u001b[0;32m   4836\u001b[0m             d = ([series.count(), series.mean(), series.std(), series.min()] +\n\u001b[0;32m   4837\u001b[0m                  [series.quantile(x) for x in percentiles] + [series.max()])\n",
      "\u001b[1;31mTypeError\u001b[0m: iteration over a 0-d array"
     ]
    }
   ],
   "source": [
    "#x.describe(percentiles=0.5)"
   ]
  },
  {
   "cell_type": "code",
   "execution_count": 51,
   "metadata": {
    "collapsed": false
   },
   "outputs": [],
   "source": [
    "data = [x for x in range(1, 10)]\n",
    "df = pd.DataFrame(data, columns=[\"x\"])"
   ]
  },
  {
   "cell_type": "code",
   "execution_count": 52,
   "metadata": {
    "collapsed": false
   },
   "outputs": [
    {
     "data": {
      "text/html": [
       "<div>\n",
       "<table border=\"1\" class=\"dataframe\">\n",
       "  <thead>\n",
       "    <tr style=\"text-align: right;\">\n",
       "      <th></th>\n",
       "      <th>x</th>\n",
       "    </tr>\n",
       "  </thead>\n",
       "  <tbody>\n",
       "    <tr>\n",
       "      <th>0</th>\n",
       "      <td>1</td>\n",
       "    </tr>\n",
       "    <tr>\n",
       "      <th>1</th>\n",
       "      <td>2</td>\n",
       "    </tr>\n",
       "    <tr>\n",
       "      <th>2</th>\n",
       "      <td>3</td>\n",
       "    </tr>\n",
       "    <tr>\n",
       "      <th>3</th>\n",
       "      <td>4</td>\n",
       "    </tr>\n",
       "    <tr>\n",
       "      <th>4</th>\n",
       "      <td>5</td>\n",
       "    </tr>\n",
       "    <tr>\n",
       "      <th>5</th>\n",
       "      <td>6</td>\n",
       "    </tr>\n",
       "    <tr>\n",
       "      <th>6</th>\n",
       "      <td>7</td>\n",
       "    </tr>\n",
       "    <tr>\n",
       "      <th>7</th>\n",
       "      <td>8</td>\n",
       "    </tr>\n",
       "    <tr>\n",
       "      <th>8</th>\n",
       "      <td>9</td>\n",
       "    </tr>\n",
       "  </tbody>\n",
       "</table>\n",
       "</div>"
      ],
      "text/plain": [
       "   x\n",
       "0  1\n",
       "1  2\n",
       "2  3\n",
       "3  4\n",
       "4  5\n",
       "5  6\n",
       "6  7\n",
       "7  8\n",
       "8  9"
      ]
     },
     "execution_count": 52,
     "metadata": {},
     "output_type": "execute_result"
    }
   ],
   "source": [
    "df"
   ]
  },
  {
   "cell_type": "code",
   "execution_count": 53,
   "metadata": {
    "collapsed": false
   },
   "outputs": [
    {
     "data": {
      "text/plain": [
       "0    1\n",
       "1    2\n",
       "2    3\n",
       "3    4\n",
       "4    5\n",
       "5    6\n",
       "6    7\n",
       "7    8\n",
       "8    9\n",
       "Name: x, dtype: int64"
      ]
     },
     "execution_count": 53,
     "metadata": {},
     "output_type": "execute_result"
    }
   ],
   "source": [
    "df[\"x\"]"
   ]
  },
  {
   "cell_type": "code",
   "execution_count": 54,
   "metadata": {
    "collapsed": false
   },
   "outputs": [
    {
     "data": {
      "text/plain": [
       "1"
      ]
     },
     "execution_count": 54,
     "metadata": {},
     "output_type": "execute_result"
    }
   ],
   "source": [
    "df[\"x\"][0]"
   ]
  },
  {
   "cell_type": "code",
   "execution_count": 56,
   "metadata": {
    "collapsed": false
   },
   "outputs": [
    {
     "data": {
      "text/html": [
       "<div>\n",
       "<table border=\"1\" class=\"dataframe\">\n",
       "  <thead>\n",
       "    <tr style=\"text-align: right;\">\n",
       "      <th></th>\n",
       "      <th>x</th>\n",
       "      <th>x_plus_2</th>\n",
       "    </tr>\n",
       "  </thead>\n",
       "  <tbody>\n",
       "    <tr>\n",
       "      <th>0</th>\n",
       "      <td>1</td>\n",
       "      <td>3</td>\n",
       "    </tr>\n",
       "    <tr>\n",
       "      <th>1</th>\n",
       "      <td>2</td>\n",
       "      <td>4</td>\n",
       "    </tr>\n",
       "    <tr>\n",
       "      <th>2</th>\n",
       "      <td>3</td>\n",
       "      <td>5</td>\n",
       "    </tr>\n",
       "    <tr>\n",
       "      <th>3</th>\n",
       "      <td>4</td>\n",
       "      <td>6</td>\n",
       "    </tr>\n",
       "    <tr>\n",
       "      <th>4</th>\n",
       "      <td>5</td>\n",
       "      <td>7</td>\n",
       "    </tr>\n",
       "    <tr>\n",
       "      <th>5</th>\n",
       "      <td>6</td>\n",
       "      <td>8</td>\n",
       "    </tr>\n",
       "    <tr>\n",
       "      <th>6</th>\n",
       "      <td>7</td>\n",
       "      <td>9</td>\n",
       "    </tr>\n",
       "    <tr>\n",
       "      <th>7</th>\n",
       "      <td>8</td>\n",
       "      <td>10</td>\n",
       "    </tr>\n",
       "    <tr>\n",
       "      <th>8</th>\n",
       "      <td>9</td>\n",
       "      <td>11</td>\n",
       "    </tr>\n",
       "  </tbody>\n",
       "</table>\n",
       "</div>"
      ],
      "text/plain": [
       "   x  x_plus_2\n",
       "0  1         3\n",
       "1  2         4\n",
       "2  3         5\n",
       "3  4         6\n",
       "4  5         7\n",
       "5  6         8\n",
       "6  7         9\n",
       "7  8        10\n",
       "8  9        11"
      ]
     },
     "execution_count": 56,
     "metadata": {},
     "output_type": "execute_result"
    }
   ],
   "source": [
    "df[\"x_plus_2\"] = df[\"x\"] + 2\n",
    "df"
   ]
  },
  {
   "cell_type": "code",
   "execution_count": 57,
   "metadata": {
    "collapsed": false
   },
   "outputs": [
    {
     "data": {
      "text/html": [
       "<div>\n",
       "<table border=\"1\" class=\"dataframe\">\n",
       "  <thead>\n",
       "    <tr style=\"text-align: right;\">\n",
       "      <th></th>\n",
       "      <th>x</th>\n",
       "      <th>x_plus_2</th>\n",
       "      <th>x_square</th>\n",
       "      <th>x_factorial</th>\n",
       "    </tr>\n",
       "  </thead>\n",
       "  <tbody>\n",
       "    <tr>\n",
       "      <th>0</th>\n",
       "      <td>1</td>\n",
       "      <td>3</td>\n",
       "      <td>1</td>\n",
       "      <td>1</td>\n",
       "    </tr>\n",
       "    <tr>\n",
       "      <th>1</th>\n",
       "      <td>2</td>\n",
       "      <td>4</td>\n",
       "      <td>4</td>\n",
       "      <td>2</td>\n",
       "    </tr>\n",
       "    <tr>\n",
       "      <th>2</th>\n",
       "      <td>3</td>\n",
       "      <td>5</td>\n",
       "      <td>9</td>\n",
       "      <td>6</td>\n",
       "    </tr>\n",
       "    <tr>\n",
       "      <th>3</th>\n",
       "      <td>4</td>\n",
       "      <td>6</td>\n",
       "      <td>16</td>\n",
       "      <td>24</td>\n",
       "    </tr>\n",
       "    <tr>\n",
       "      <th>4</th>\n",
       "      <td>5</td>\n",
       "      <td>7</td>\n",
       "      <td>25</td>\n",
       "      <td>120</td>\n",
       "    </tr>\n",
       "    <tr>\n",
       "      <th>5</th>\n",
       "      <td>6</td>\n",
       "      <td>8</td>\n",
       "      <td>36</td>\n",
       "      <td>720</td>\n",
       "    </tr>\n",
       "    <tr>\n",
       "      <th>6</th>\n",
       "      <td>7</td>\n",
       "      <td>9</td>\n",
       "      <td>49</td>\n",
       "      <td>5040</td>\n",
       "    </tr>\n",
       "    <tr>\n",
       "      <th>7</th>\n",
       "      <td>8</td>\n",
       "      <td>10</td>\n",
       "      <td>64</td>\n",
       "      <td>40320</td>\n",
       "    </tr>\n",
       "    <tr>\n",
       "      <th>8</th>\n",
       "      <td>9</td>\n",
       "      <td>11</td>\n",
       "      <td>81</td>\n",
       "      <td>362880</td>\n",
       "    </tr>\n",
       "  </tbody>\n",
       "</table>\n",
       "</div>"
      ],
      "text/plain": [
       "   x  x_plus_2  x_square  x_factorial\n",
       "0  1         3         1            1\n",
       "1  2         4         4            2\n",
       "2  3         5         9            6\n",
       "3  4         6        16           24\n",
       "4  5         7        25          120\n",
       "5  6         8        36          720\n",
       "6  7         9        49         5040\n",
       "7  8        10        64        40320\n",
       "8  9        11        81       362880"
      ]
     },
     "execution_count": 57,
     "metadata": {},
     "output_type": "execute_result"
    }
   ],
   "source": [
    "df[\"x_square\"] = df[\"x\"] ** 2\n",
    "df[\"x_factorial\"] = df[\"x\"].apply(np.math.factorial)\n",
    "df\n"
   ]
  },
  {
   "cell_type": "code",
   "execution_count": 59,
   "metadata": {
    "collapsed": false
   },
   "outputs": [
    {
     "data": {
      "text/html": [
       "<div>\n",
       "<table border=\"1\" class=\"dataframe\">\n",
       "  <thead>\n",
       "    <tr style=\"text-align: right;\">\n",
       "      <th></th>\n",
       "      <th>x</th>\n",
       "      <th>x_plus_2</th>\n",
       "      <th>x_square</th>\n",
       "      <th>x_factorial</th>\n",
       "      <th>is_even</th>\n",
       "    </tr>\n",
       "  </thead>\n",
       "  <tbody>\n",
       "    <tr>\n",
       "      <th>0</th>\n",
       "      <td>1</td>\n",
       "      <td>3</td>\n",
       "      <td>1</td>\n",
       "      <td>1</td>\n",
       "      <td>False</td>\n",
       "    </tr>\n",
       "    <tr>\n",
       "      <th>1</th>\n",
       "      <td>2</td>\n",
       "      <td>4</td>\n",
       "      <td>4</td>\n",
       "      <td>2</td>\n",
       "      <td>True</td>\n",
       "    </tr>\n",
       "    <tr>\n",
       "      <th>2</th>\n",
       "      <td>3</td>\n",
       "      <td>5</td>\n",
       "      <td>9</td>\n",
       "      <td>6</td>\n",
       "      <td>False</td>\n",
       "    </tr>\n",
       "    <tr>\n",
       "      <th>3</th>\n",
       "      <td>4</td>\n",
       "      <td>6</td>\n",
       "      <td>16</td>\n",
       "      <td>24</td>\n",
       "      <td>True</td>\n",
       "    </tr>\n",
       "    <tr>\n",
       "      <th>4</th>\n",
       "      <td>5</td>\n",
       "      <td>7</td>\n",
       "      <td>25</td>\n",
       "      <td>120</td>\n",
       "      <td>False</td>\n",
       "    </tr>\n",
       "    <tr>\n",
       "      <th>5</th>\n",
       "      <td>6</td>\n",
       "      <td>8</td>\n",
       "      <td>36</td>\n",
       "      <td>720</td>\n",
       "      <td>True</td>\n",
       "    </tr>\n",
       "    <tr>\n",
       "      <th>6</th>\n",
       "      <td>7</td>\n",
       "      <td>9</td>\n",
       "      <td>49</td>\n",
       "      <td>5040</td>\n",
       "      <td>False</td>\n",
       "    </tr>\n",
       "    <tr>\n",
       "      <th>7</th>\n",
       "      <td>8</td>\n",
       "      <td>10</td>\n",
       "      <td>64</td>\n",
       "      <td>40320</td>\n",
       "      <td>True</td>\n",
       "    </tr>\n",
       "    <tr>\n",
       "      <th>8</th>\n",
       "      <td>9</td>\n",
       "      <td>11</td>\n",
       "      <td>81</td>\n",
       "      <td>362880</td>\n",
       "      <td>False</td>\n",
       "    </tr>\n",
       "  </tbody>\n",
       "</table>\n",
       "</div>"
      ],
      "text/plain": [
       "   x  x_plus_2  x_square  x_factorial is_even\n",
       "0  1         3         1            1   False\n",
       "1  2         4         4            2    True\n",
       "2  3         5         9            6   False\n",
       "3  4         6        16           24    True\n",
       "4  5         7        25          120   False\n",
       "5  6         8        36          720    True\n",
       "6  7         9        49         5040   False\n",
       "7  8        10        64        40320    True\n",
       "8  9        11        81       362880   False"
      ]
     },
     "execution_count": 59,
     "metadata": {},
     "output_type": "execute_result"
    }
   ],
   "source": [
    "df[\"is_even\"] = df[\"x\"] % 2 == 0\n",
    "df"
   ]
  },
  {
   "cell_type": "code",
   "execution_count": 61,
   "metadata": {
    "collapsed": false
   },
   "outputs": [
    {
     "data": {
      "text/html": [
       "<div>\n",
       "<table border=\"1\" class=\"dataframe\">\n",
       "  <thead>\n",
       "    <tr style=\"text-align: right;\">\n",
       "      <th></th>\n",
       "      <th>x</th>\n",
       "      <th>x_plus_2</th>\n",
       "      <th>x_square</th>\n",
       "      <th>x_factorial</th>\n",
       "      <th>is_even</th>\n",
       "      <th>odd_even</th>\n",
       "    </tr>\n",
       "  </thead>\n",
       "  <tbody>\n",
       "    <tr>\n",
       "      <th>0</th>\n",
       "      <td>1</td>\n",
       "      <td>3</td>\n",
       "      <td>1</td>\n",
       "      <td>1</td>\n",
       "      <td>False</td>\n",
       "      <td>odd</td>\n",
       "    </tr>\n",
       "    <tr>\n",
       "      <th>1</th>\n",
       "      <td>2</td>\n",
       "      <td>4</td>\n",
       "      <td>4</td>\n",
       "      <td>2</td>\n",
       "      <td>True</td>\n",
       "      <td>even</td>\n",
       "    </tr>\n",
       "    <tr>\n",
       "      <th>2</th>\n",
       "      <td>3</td>\n",
       "      <td>5</td>\n",
       "      <td>9</td>\n",
       "      <td>6</td>\n",
       "      <td>False</td>\n",
       "      <td>odd</td>\n",
       "    </tr>\n",
       "    <tr>\n",
       "      <th>3</th>\n",
       "      <td>4</td>\n",
       "      <td>6</td>\n",
       "      <td>16</td>\n",
       "      <td>24</td>\n",
       "      <td>True</td>\n",
       "      <td>even</td>\n",
       "    </tr>\n",
       "    <tr>\n",
       "      <th>4</th>\n",
       "      <td>5</td>\n",
       "      <td>7</td>\n",
       "      <td>25</td>\n",
       "      <td>120</td>\n",
       "      <td>False</td>\n",
       "      <td>odd</td>\n",
       "    </tr>\n",
       "    <tr>\n",
       "      <th>5</th>\n",
       "      <td>6</td>\n",
       "      <td>8</td>\n",
       "      <td>36</td>\n",
       "      <td>720</td>\n",
       "      <td>True</td>\n",
       "      <td>even</td>\n",
       "    </tr>\n",
       "    <tr>\n",
       "      <th>6</th>\n",
       "      <td>7</td>\n",
       "      <td>9</td>\n",
       "      <td>49</td>\n",
       "      <td>5040</td>\n",
       "      <td>False</td>\n",
       "      <td>odd</td>\n",
       "    </tr>\n",
       "    <tr>\n",
       "      <th>7</th>\n",
       "      <td>8</td>\n",
       "      <td>10</td>\n",
       "      <td>64</td>\n",
       "      <td>40320</td>\n",
       "      <td>True</td>\n",
       "      <td>even</td>\n",
       "    </tr>\n",
       "    <tr>\n",
       "      <th>8</th>\n",
       "      <td>9</td>\n",
       "      <td>11</td>\n",
       "      <td>81</td>\n",
       "      <td>362880</td>\n",
       "      <td>False</td>\n",
       "      <td>odd</td>\n",
       "    </tr>\n",
       "  </tbody>\n",
       "</table>\n",
       "</div>"
      ],
      "text/plain": [
       "   x  x_plus_2  x_square  x_factorial is_even odd_even\n",
       "0  1         3         1            1   False      odd\n",
       "1  2         4         4            2    True     even\n",
       "2  3         5         9            6   False      odd\n",
       "3  4         6        16           24    True     even\n",
       "4  5         7        25          120   False      odd\n",
       "5  6         8        36          720    True     even\n",
       "6  7         9        49         5040   False      odd\n",
       "7  8        10        64        40320    True     even\n",
       "8  9        11        81       362880   False      odd"
      ]
     },
     "execution_count": 61,
     "metadata": {},
     "output_type": "execute_result"
    }
   ],
   "source": [
    "df[\"odd_even\"] = df[\"is_even\"].map({False:\"odd\", True:\"even\"})\n",
    "df"
   ]
  },
  {
   "cell_type": "code",
   "execution_count": 62,
   "metadata": {
    "collapsed": false
   },
   "outputs": [
    {
     "data": {
      "text/html": [
       "<div>\n",
       "<table border=\"1\" class=\"dataframe\">\n",
       "  <thead>\n",
       "    <tr style=\"text-align: right;\">\n",
       "      <th></th>\n",
       "      <th>x</th>\n",
       "      <th>x_plus_2</th>\n",
       "      <th>x_square</th>\n",
       "      <th>x_factorial</th>\n",
       "      <th>odd_even</th>\n",
       "    </tr>\n",
       "  </thead>\n",
       "  <tbody>\n",
       "    <tr>\n",
       "      <th>0</th>\n",
       "      <td>1</td>\n",
       "      <td>3</td>\n",
       "      <td>1</td>\n",
       "      <td>1</td>\n",
       "      <td>odd</td>\n",
       "    </tr>\n",
       "    <tr>\n",
       "      <th>1</th>\n",
       "      <td>2</td>\n",
       "      <td>4</td>\n",
       "      <td>4</td>\n",
       "      <td>2</td>\n",
       "      <td>even</td>\n",
       "    </tr>\n",
       "    <tr>\n",
       "      <th>2</th>\n",
       "      <td>3</td>\n",
       "      <td>5</td>\n",
       "      <td>9</td>\n",
       "      <td>6</td>\n",
       "      <td>odd</td>\n",
       "    </tr>\n",
       "    <tr>\n",
       "      <th>3</th>\n",
       "      <td>4</td>\n",
       "      <td>6</td>\n",
       "      <td>16</td>\n",
       "      <td>24</td>\n",
       "      <td>even</td>\n",
       "    </tr>\n",
       "    <tr>\n",
       "      <th>4</th>\n",
       "      <td>5</td>\n",
       "      <td>7</td>\n",
       "      <td>25</td>\n",
       "      <td>120</td>\n",
       "      <td>odd</td>\n",
       "    </tr>\n",
       "    <tr>\n",
       "      <th>5</th>\n",
       "      <td>6</td>\n",
       "      <td>8</td>\n",
       "      <td>36</td>\n",
       "      <td>720</td>\n",
       "      <td>even</td>\n",
       "    </tr>\n",
       "    <tr>\n",
       "      <th>6</th>\n",
       "      <td>7</td>\n",
       "      <td>9</td>\n",
       "      <td>49</td>\n",
       "      <td>5040</td>\n",
       "      <td>odd</td>\n",
       "    </tr>\n",
       "    <tr>\n",
       "      <th>7</th>\n",
       "      <td>8</td>\n",
       "      <td>10</td>\n",
       "      <td>64</td>\n",
       "      <td>40320</td>\n",
       "      <td>even</td>\n",
       "    </tr>\n",
       "    <tr>\n",
       "      <th>8</th>\n",
       "      <td>9</td>\n",
       "      <td>11</td>\n",
       "      <td>81</td>\n",
       "      <td>362880</td>\n",
       "      <td>odd</td>\n",
       "    </tr>\n",
       "  </tbody>\n",
       "</table>\n",
       "</div>"
      ],
      "text/plain": [
       "   x  x_plus_2  x_square  x_factorial odd_even\n",
       "0  1         3         1            1      odd\n",
       "1  2         4         4            2     even\n",
       "2  3         5         9            6      odd\n",
       "3  4         6        16           24     even\n",
       "4  5         7        25          120      odd\n",
       "5  6         8        36          720     even\n",
       "6  7         9        49         5040      odd\n",
       "7  8        10        64        40320     even\n",
       "8  9        11        81       362880      odd"
      ]
     },
     "execution_count": 62,
     "metadata": {},
     "output_type": "execute_result"
    }
   ],
   "source": [
    "df = df.drop(\"is_even\", 1)\n",
    "df"
   ]
  },
  {
   "cell_type": "code",
   "execution_count": 64,
   "metadata": {
    "collapsed": false
   },
   "outputs": [
    {
     "data": {
      "text/html": [
       "<div>\n",
       "<table border=\"1\" class=\"dataframe\">\n",
       "  <thead>\n",
       "    <tr style=\"text-align: right;\">\n",
       "      <th></th>\n",
       "      <th>x</th>\n",
       "      <th>odd_even</th>\n",
       "    </tr>\n",
       "  </thead>\n",
       "  <tbody>\n",
       "    <tr>\n",
       "      <th>0</th>\n",
       "      <td>1</td>\n",
       "      <td>odd</td>\n",
       "    </tr>\n",
       "    <tr>\n",
       "      <th>1</th>\n",
       "      <td>2</td>\n",
       "      <td>even</td>\n",
       "    </tr>\n",
       "    <tr>\n",
       "      <th>2</th>\n",
       "      <td>3</td>\n",
       "      <td>odd</td>\n",
       "    </tr>\n",
       "    <tr>\n",
       "      <th>3</th>\n",
       "      <td>4</td>\n",
       "      <td>even</td>\n",
       "    </tr>\n",
       "    <tr>\n",
       "      <th>4</th>\n",
       "      <td>5</td>\n",
       "      <td>odd</td>\n",
       "    </tr>\n",
       "    <tr>\n",
       "      <th>5</th>\n",
       "      <td>6</td>\n",
       "      <td>even</td>\n",
       "    </tr>\n",
       "    <tr>\n",
       "      <th>6</th>\n",
       "      <td>7</td>\n",
       "      <td>odd</td>\n",
       "    </tr>\n",
       "    <tr>\n",
       "      <th>7</th>\n",
       "      <td>8</td>\n",
       "      <td>even</td>\n",
       "    </tr>\n",
       "    <tr>\n",
       "      <th>8</th>\n",
       "      <td>9</td>\n",
       "      <td>odd</td>\n",
       "    </tr>\n",
       "  </tbody>\n",
       "</table>\n",
       "</div>"
      ],
      "text/plain": [
       "   x odd_even\n",
       "0  1      odd\n",
       "1  2     even\n",
       "2  3      odd\n",
       "3  4     even\n",
       "4  5      odd\n",
       "5  6     even\n",
       "6  7      odd\n",
       "7  8     even\n",
       "8  9      odd"
      ]
     },
     "execution_count": 64,
     "metadata": {},
     "output_type": "execute_result"
    }
   ],
   "source": [
    "df[[\"x\", \"odd_even\"]]"
   ]
  },
  {
   "cell_type": "code",
   "execution_count": 65,
   "metadata": {
    "collapsed": false
   },
   "outputs": [
    {
     "data": {
      "text/html": [
       "<div>\n",
       "<table border=\"1\" class=\"dataframe\">\n",
       "  <thead>\n",
       "    <tr style=\"text-align: right;\">\n",
       "      <th></th>\n",
       "      <th>x</th>\n",
       "      <th>x_plus_2</th>\n",
       "      <th>x_square</th>\n",
       "      <th>x_factorial</th>\n",
       "      <th>odd_even</th>\n",
       "    </tr>\n",
       "  </thead>\n",
       "  <tbody>\n",
       "    <tr>\n",
       "      <th>0</th>\n",
       "      <td>1</td>\n",
       "      <td>3</td>\n",
       "      <td>1</td>\n",
       "      <td>1</td>\n",
       "      <td>odd</td>\n",
       "    </tr>\n",
       "    <tr>\n",
       "      <th>2</th>\n",
       "      <td>3</td>\n",
       "      <td>5</td>\n",
       "      <td>9</td>\n",
       "      <td>6</td>\n",
       "      <td>odd</td>\n",
       "    </tr>\n",
       "    <tr>\n",
       "      <th>4</th>\n",
       "      <td>5</td>\n",
       "      <td>7</td>\n",
       "      <td>25</td>\n",
       "      <td>120</td>\n",
       "      <td>odd</td>\n",
       "    </tr>\n",
       "    <tr>\n",
       "      <th>6</th>\n",
       "      <td>7</td>\n",
       "      <td>9</td>\n",
       "      <td>49</td>\n",
       "      <td>5040</td>\n",
       "      <td>odd</td>\n",
       "    </tr>\n",
       "    <tr>\n",
       "      <th>8</th>\n",
       "      <td>9</td>\n",
       "      <td>11</td>\n",
       "      <td>81</td>\n",
       "      <td>362880</td>\n",
       "      <td>odd</td>\n",
       "    </tr>\n",
       "  </tbody>\n",
       "</table>\n",
       "</div>"
      ],
      "text/plain": [
       "   x  x_plus_2  x_square  x_factorial odd_even\n",
       "0  1         3         1            1      odd\n",
       "2  3         5         9            6      odd\n",
       "4  5         7        25          120      odd\n",
       "6  7         9        49         5040      odd\n",
       "8  9        11        81       362880      odd"
      ]
     },
     "execution_count": 65,
     "metadata": {},
     "output_type": "execute_result"
    }
   ],
   "source": [
    "df[df[\"odd_even\"] == \"odd\"]"
   ]
  },
  {
   "cell_type": "code",
   "execution_count": 68,
   "metadata": {
    "collapsed": false
   },
   "outputs": [
    {
     "data": {
      "text/html": [
       "<div>\n",
       "<table border=\"1\" class=\"dataframe\">\n",
       "  <thead>\n",
       "    <tr style=\"text-align: right;\">\n",
       "      <th></th>\n",
       "      <th>x</th>\n",
       "      <th>x_plus_2</th>\n",
       "      <th>x_square</th>\n",
       "      <th>x_factorial</th>\n",
       "      <th>odd_even</th>\n",
       "    </tr>\n",
       "  </thead>\n",
       "  <tbody>\n",
       "    <tr>\n",
       "      <th>0</th>\n",
       "      <td>1</td>\n",
       "      <td>3</td>\n",
       "      <td>1</td>\n",
       "      <td>1</td>\n",
       "      <td>odd</td>\n",
       "    </tr>\n",
       "    <tr>\n",
       "      <th>1</th>\n",
       "      <td>2</td>\n",
       "      <td>4</td>\n",
       "      <td>4</td>\n",
       "      <td>2</td>\n",
       "      <td>even</td>\n",
       "    </tr>\n",
       "    <tr>\n",
       "      <th>2</th>\n",
       "      <td>3</td>\n",
       "      <td>5</td>\n",
       "      <td>9</td>\n",
       "      <td>6</td>\n",
       "      <td>odd</td>\n",
       "    </tr>\n",
       "    <tr>\n",
       "      <th>3</th>\n",
       "      <td>4</td>\n",
       "      <td>6</td>\n",
       "      <td>16</td>\n",
       "      <td>24</td>\n",
       "      <td>even</td>\n",
       "    </tr>\n",
       "    <tr>\n",
       "      <th>4</th>\n",
       "      <td>5</td>\n",
       "      <td>7</td>\n",
       "      <td>25</td>\n",
       "      <td>120</td>\n",
       "      <td>odd</td>\n",
       "    </tr>\n",
       "    <tr>\n",
       "      <th>6</th>\n",
       "      <td>7</td>\n",
       "      <td>9</td>\n",
       "      <td>49</td>\n",
       "      <td>5040</td>\n",
       "      <td>odd</td>\n",
       "    </tr>\n",
       "    <tr>\n",
       "      <th>8</th>\n",
       "      <td>9</td>\n",
       "      <td>11</td>\n",
       "      <td>81</td>\n",
       "      <td>362880</td>\n",
       "      <td>odd</td>\n",
       "    </tr>\n",
       "  </tbody>\n",
       "</table>\n",
       "</div>"
      ],
      "text/plain": [
       "   x  x_plus_2  x_square  x_factorial odd_even\n",
       "0  1         3         1            1      odd\n",
       "1  2         4         4            2     even\n",
       "2  3         5         9            6      odd\n",
       "3  4         6        16           24     even\n",
       "4  5         7        25          120      odd\n",
       "6  7         9        49         5040      odd\n",
       "8  9        11        81       362880      odd"
      ]
     },
     "execution_count": 68,
     "metadata": {},
     "output_type": "execute_result"
    }
   ],
   "source": [
    "df[(df.odd_even == \"odd\") |(df.x_square < 20)]"
   ]
  },
  {
   "cell_type": "code",
   "execution_count": 69,
   "metadata": {
    "collapsed": false
   },
   "outputs": [
    {
     "data": {
      "text/html": [
       "<div>\n",
       "<table border=\"1\" class=\"dataframe\">\n",
       "  <thead>\n",
       "    <tr style=\"text-align: right;\">\n",
       "      <th></th>\n",
       "      <th>x</th>\n",
       "      <th>x_plus_2</th>\n",
       "      <th>x_square</th>\n",
       "      <th>x_factorial</th>\n",
       "      <th>odd_even</th>\n",
       "    </tr>\n",
       "  </thead>\n",
       "  <tbody>\n",
       "    <tr>\n",
       "      <th>0</th>\n",
       "      <td>1</td>\n",
       "      <td>3</td>\n",
       "      <td>1</td>\n",
       "      <td>1</td>\n",
       "      <td>odd</td>\n",
       "    </tr>\n",
       "    <tr>\n",
       "      <th>2</th>\n",
       "      <td>3</td>\n",
       "      <td>5</td>\n",
       "      <td>9</td>\n",
       "      <td>6</td>\n",
       "      <td>odd</td>\n",
       "    </tr>\n",
       "  </tbody>\n",
       "</table>\n",
       "</div>"
      ],
      "text/plain": [
       "   x  x_plus_2  x_square  x_factorial odd_even\n",
       "0  1         3         1            1      odd\n",
       "2  3         5         9            6      odd"
      ]
     },
     "execution_count": 69,
     "metadata": {},
     "output_type": "execute_result"
    }
   ],
   "source": [
    "df[(df.odd_even == \"odd\") &(df.x_square < 20)]"
   ]
  },
  {
   "cell_type": "code",
   "execution_count": 71,
   "metadata": {
    "collapsed": false
   },
   "outputs": [
    {
     "data": {
      "text/plain": [
       "0    3\n",
       "Name: x_plus_2, dtype: int64"
      ]
     },
     "execution_count": 71,
     "metadata": {},
     "output_type": "execute_result"
    }
   ],
   "source": [
    "df[(df.odd_even == \"odd\") |(df.x_square < 20)][\"x_plus_2\"][:1]"
   ]
  },
  {
   "cell_type": "code",
   "execution_count": 73,
   "metadata": {
    "collapsed": false
   },
   "outputs": [
    {
     "data": {
      "text/plain": [
       "array([[<matplotlib.axes._subplots.AxesSubplot object at 0x0000012AA7C63F28>,\n",
       "        <matplotlib.axes._subplots.AxesSubplot object at 0x0000012AA7C9D898>,\n",
       "        <matplotlib.axes._subplots.AxesSubplot object at 0x0000012AA7E7A390>,\n",
       "        <matplotlib.axes._subplots.AxesSubplot object at 0x0000012AA7EB7128>],\n",
       "       [<matplotlib.axes._subplots.AxesSubplot object at 0x0000012AA7EFF278>,\n",
       "        <matplotlib.axes._subplots.AxesSubplot object at 0x0000012AA7F42518>,\n",
       "        <matplotlib.axes._subplots.AxesSubplot object at 0x0000012AA7F89C18>,\n",
       "        <matplotlib.axes._subplots.AxesSubplot object at 0x0000012AA7FCC358>],\n",
       "       [<matplotlib.axes._subplots.AxesSubplot object at 0x0000012AA8015588>,\n",
       "        <matplotlib.axes._subplots.AxesSubplot object at 0x0000012AA805F2E8>,\n",
       "        <matplotlib.axes._subplots.AxesSubplot object at 0x0000012AA5F8F710>,\n",
       "        <matplotlib.axes._subplots.AxesSubplot object at 0x0000012AA80BDBE0>],\n",
       "       [<matplotlib.axes._subplots.AxesSubplot object at 0x0000012AA80FCBA8>,\n",
       "        <matplotlib.axes._subplots.AxesSubplot object at 0x0000012AA814B2E8>,\n",
       "        <matplotlib.axes._subplots.AxesSubplot object at 0x0000012AA81839E8>,\n",
       "        <matplotlib.axes._subplots.AxesSubplot object at 0x0000012AA81CFC18>]], dtype=object)"
      ]
     },
     "execution_count": 73,
     "metadata": {},
     "output_type": "execute_result"
    },
    {
     "data": {
      "image/png": "[encoded data removed]",
      "text/plain": [
       "<matplotlib.figure.Figure at 0x12aa7a93898>"
      ]
     },
     "metadata": {},
     "output_type": "display_data"
    }
   ],
   "source": [
    "pd.scatter_matrix(df, diagonal=\"hist\", figsize=(10,10))"
   ]
  },
  {
   "cell_type": "code",
   "execution_count": 74,
   "metadata": {
    "collapsed": false
   },
   "outputs": [
    {
     "data": {
      "text/html": [
       "<div>\n",
       "<table border=\"1\" class=\"dataframe\">\n",
       "  <thead>\n",
       "    <tr style=\"text-align: right;\">\n",
       "      <th></th>\n",
       "      <th>x</th>\n",
       "      <th>x_plus_2</th>\n",
       "      <th>x_square</th>\n",
       "      <th>x_factorial</th>\n",
       "    </tr>\n",
       "  </thead>\n",
       "  <tbody>\n",
       "    <tr>\n",
       "      <th>count</th>\n",
       "      <td>9.000000</td>\n",
       "      <td>9.000000</td>\n",
       "      <td>9.000000</td>\n",
       "      <td>9.000000</td>\n",
       "    </tr>\n",
       "    <tr>\n",
       "      <th>mean</th>\n",
       "      <td>5.000000</td>\n",
       "      <td>7.000000</td>\n",
       "      <td>31.666667</td>\n",
       "      <td>45457.000000</td>\n",
       "    </tr>\n",
       "    <tr>\n",
       "      <th>std</th>\n",
       "      <td>2.738613</td>\n",
       "      <td>2.738613</td>\n",
       "      <td>28.080242</td>\n",
       "      <td>119758.341137</td>\n",
       "    </tr>\n",
       "    <tr>\n",
       "      <th>min</th>\n",
       "      <td>1.000000</td>\n",
       "      <td>3.000000</td>\n",
       "      <td>1.000000</td>\n",
       "      <td>1.000000</td>\n",
       "    </tr>\n",
       "    <tr>\n",
       "      <th>25%</th>\n",
       "      <td>3.000000</td>\n",
       "      <td>5.000000</td>\n",
       "      <td>9.000000</td>\n",
       "      <td>6.000000</td>\n",
       "    </tr>\n",
       "    <tr>\n",
       "      <th>50%</th>\n",
       "      <td>5.000000</td>\n",
       "      <td>7.000000</td>\n",
       "      <td>25.000000</td>\n",
       "      <td>120.000000</td>\n",
       "    </tr>\n",
       "    <tr>\n",
       "      <th>75%</th>\n",
       "      <td>7.000000</td>\n",
       "      <td>9.000000</td>\n",
       "      <td>49.000000</td>\n",
       "      <td>5040.000000</td>\n",
       "    </tr>\n",
       "    <tr>\n",
       "      <th>max</th>\n",
       "      <td>9.000000</td>\n",
       "      <td>11.000000</td>\n",
       "      <td>81.000000</td>\n",
       "      <td>362880.000000</td>\n",
       "    </tr>\n",
       "  </tbody>\n",
       "</table>\n",
       "</div>"
      ],
      "text/plain": [
       "              x   x_plus_2   x_square    x_factorial\n",
       "count  9.000000   9.000000   9.000000       9.000000\n",
       "mean   5.000000   7.000000  31.666667   45457.000000\n",
       "std    2.738613   2.738613  28.080242  119758.341137\n",
       "min    1.000000   3.000000   1.000000       1.000000\n",
       "25%    3.000000   5.000000   9.000000       6.000000\n",
       "50%    5.000000   7.000000  25.000000     120.000000\n",
       "75%    7.000000   9.000000  49.000000    5040.000000\n",
       "max    9.000000  11.000000  81.000000  362880.000000"
      ]
     },
     "execution_count": 74,
     "metadata": {},
     "output_type": "execute_result"
    }
   ],
   "source": [
    "df.describe()"
   ]
  },
  {
   "cell_type": "code",
   "execution_count": 75,
   "metadata": {
    "collapsed": true
   },
   "outputs": [],
   "source": [
    "url = \"http://www.google.com/finance/historical?q=TADAWUL:TASI&output=csv\"\n",
    "stocks_data = pd.read_csv(url)"
   ]
  },
  {
   "cell_type": "code",
   "execution_count": 76,
   "metadata": {
    "collapsed": false
   },
   "outputs": [
    {
     "data": {
      "text/html": [
       "<div>\n",
       "<table border=\"1\" class=\"dataframe\">\n",
       "  <thead>\n",
       "    <tr style=\"text-align: right;\">\n",
       "      <th></th>\n",
       "      <th>﻿Date</th>\n",
       "      <th>Open</th>\n",
       "      <th>High</th>\n",
       "      <th>Low</th>\n",
       "      <th>Close</th>\n",
       "      <th>Volume</th>\n",
       "    </tr>\n",
       "  </thead>\n",
       "  <tbody>\n",
       "    <tr>\n",
       "      <th>0</th>\n",
       "      <td>21-Apr-16</td>\n",
       "      <td>6512.43</td>\n",
       "      <td>6597.18</td>\n",
       "      <td>6510.80</td>\n",
       "      <td>6587.68</td>\n",
       "      <td>391429221</td>\n",
       "    </tr>\n",
       "    <tr>\n",
       "      <th>1</th>\n",
       "      <td>20-Apr-16</td>\n",
       "      <td>6531.90</td>\n",
       "      <td>6538.21</td>\n",
       "      <td>6482.59</td>\n",
       "      <td>6512.43</td>\n",
       "      <td>288815436</td>\n",
       "    </tr>\n",
       "    <tr>\n",
       "      <th>2</th>\n",
       "      <td>19-Apr-16</td>\n",
       "      <td>6424.90</td>\n",
       "      <td>6534.91</td>\n",
       "      <td>6425.71</td>\n",
       "      <td>6531.90</td>\n",
       "      <td>325625683</td>\n",
       "    </tr>\n",
       "    <tr>\n",
       "      <th>3</th>\n",
       "      <td>18-Apr-16</td>\n",
       "      <td>6412.37</td>\n",
       "      <td>6428.16</td>\n",
       "      <td>6309.61</td>\n",
       "      <td>6424.90</td>\n",
       "      <td>286739892</td>\n",
       "    </tr>\n",
       "    <tr>\n",
       "      <th>4</th>\n",
       "      <td>17-Apr-16</td>\n",
       "      <td>6509.02</td>\n",
       "      <td>6531.20</td>\n",
       "      <td>6398.76</td>\n",
       "      <td>6412.37</td>\n",
       "      <td>301506913</td>\n",
       "    </tr>\n",
       "    <tr>\n",
       "      <th>5</th>\n",
       "      <td>14-Apr-16</td>\n",
       "      <td>6442.04</td>\n",
       "      <td>6513.09</td>\n",
       "      <td>6435.18</td>\n",
       "      <td>6509.02</td>\n",
       "      <td>294802367</td>\n",
       "    </tr>\n",
       "    <tr>\n",
       "      <th>6</th>\n",
       "      <td>13-Apr-16</td>\n",
       "      <td>6403.60</td>\n",
       "      <td>6447.64</td>\n",
       "      <td>6404.41</td>\n",
       "      <td>6442.04</td>\n",
       "      <td>317630616</td>\n",
       "    </tr>\n",
       "    <tr>\n",
       "      <th>7</th>\n",
       "      <td>12-Apr-16</td>\n",
       "      <td>6311.58</td>\n",
       "      <td>6418.44</td>\n",
       "      <td>6296.67</td>\n",
       "      <td>6403.60</td>\n",
       "      <td>286182161</td>\n",
       "    </tr>\n",
       "    <tr>\n",
       "      <th>8</th>\n",
       "      <td>11-Apr-16</td>\n",
       "      <td>6346.16</td>\n",
       "      <td>6346.16</td>\n",
       "      <td>6306.07</td>\n",
       "      <td>6311.58</td>\n",
       "      <td>266368988</td>\n",
       "    </tr>\n",
       "    <tr>\n",
       "      <th>9</th>\n",
       "      <td>10-Apr-16</td>\n",
       "      <td>6258.11</td>\n",
       "      <td>6352.95</td>\n",
       "      <td>6257.13</td>\n",
       "      <td>6346.16</td>\n",
       "      <td>190494047</td>\n",
       "    </tr>\n",
       "    <tr>\n",
       "      <th>10</th>\n",
       "      <td>7-Apr-16</td>\n",
       "      <td>6213.58</td>\n",
       "      <td>6273.34</td>\n",
       "      <td>6214.38</td>\n",
       "      <td>6258.11</td>\n",
       "      <td>226839151</td>\n",
       "    </tr>\n",
       "    <tr>\n",
       "      <th>11</th>\n",
       "      <td>6-Apr-16</td>\n",
       "      <td>6201.09</td>\n",
       "      <td>6251.11</td>\n",
       "      <td>6195.39</td>\n",
       "      <td>6213.58</td>\n",
       "      <td>253491214</td>\n",
       "    </tr>\n",
       "    <tr>\n",
       "      <th>12</th>\n",
       "      <td>5-Apr-16</td>\n",
       "      <td>6210.91</td>\n",
       "      <td>6210.91</td>\n",
       "      <td>6156.09</td>\n",
       "      <td>6201.09</td>\n",
       "      <td>224543310</td>\n",
       "    </tr>\n",
       "    <tr>\n",
       "      <th>13</th>\n",
       "      <td>4-Apr-16</td>\n",
       "      <td>6126.12</td>\n",
       "      <td>6219.45</td>\n",
       "      <td>6117.57</td>\n",
       "      <td>6210.91</td>\n",
       "      <td>195703042</td>\n",
       "    </tr>\n",
       "    <tr>\n",
       "      <th>14</th>\n",
       "      <td>3-Apr-16</td>\n",
       "      <td>6223.13</td>\n",
       "      <td>6223.13</td>\n",
       "      <td>6065.86</td>\n",
       "      <td>6126.12</td>\n",
       "      <td>183427068</td>\n",
       "    </tr>\n",
       "    <tr>\n",
       "      <th>15</th>\n",
       "      <td>31-Mar-16</td>\n",
       "      <td>6215.65</td>\n",
       "      <td>6232.93</td>\n",
       "      <td>6153.55</td>\n",
       "      <td>6223.13</td>\n",
       "      <td>185368502</td>\n",
       "    </tr>\n",
       "    <tr>\n",
       "      <th>16</th>\n",
       "      <td>30-Mar-16</td>\n",
       "      <td>6176.84</td>\n",
       "      <td>6222.97</td>\n",
       "      <td>6163.99</td>\n",
       "      <td>6215.65</td>\n",
       "      <td>187742803</td>\n",
       "    </tr>\n",
       "    <tr>\n",
       "      <th>17</th>\n",
       "      <td>29-Mar-16</td>\n",
       "      <td>6268.71</td>\n",
       "      <td>6268.35</td>\n",
       "      <td>6141.98</td>\n",
       "      <td>6176.84</td>\n",
       "      <td>204334935</td>\n",
       "    </tr>\n",
       "    <tr>\n",
       "      <th>18</th>\n",
       "      <td>28-Mar-16</td>\n",
       "      <td>6256.68</td>\n",
       "      <td>6321.71</td>\n",
       "      <td>6233.56</td>\n",
       "      <td>6268.71</td>\n",
       "      <td>230321520</td>\n",
       "    </tr>\n",
       "    <tr>\n",
       "      <th>19</th>\n",
       "      <td>27-Mar-16</td>\n",
       "      <td>6350.90</td>\n",
       "      <td>6360.39</td>\n",
       "      <td>6238.46</td>\n",
       "      <td>6256.68</td>\n",
       "      <td>256957738</td>\n",
       "    </tr>\n",
       "    <tr>\n",
       "      <th>20</th>\n",
       "      <td>24-Mar-16</td>\n",
       "      <td>6460.98</td>\n",
       "      <td>6460.78</td>\n",
       "      <td>6345.19</td>\n",
       "      <td>6350.90</td>\n",
       "      <td>272246399</td>\n",
       "    </tr>\n",
       "    <tr>\n",
       "      <th>21</th>\n",
       "      <td>23-Mar-16</td>\n",
       "      <td>6481.68</td>\n",
       "      <td>6517.89</td>\n",
       "      <td>6458.22</td>\n",
       "      <td>6460.98</td>\n",
       "      <td>279217121</td>\n",
       "    </tr>\n",
       "    <tr>\n",
       "      <th>22</th>\n",
       "      <td>22-Mar-16</td>\n",
       "      <td>6486.11</td>\n",
       "      <td>6515.34</td>\n",
       "      <td>6427.87</td>\n",
       "      <td>6481.68</td>\n",
       "      <td>335386296</td>\n",
       "    </tr>\n",
       "    <tr>\n",
       "      <th>23</th>\n",
       "      <td>21-Mar-16</td>\n",
       "      <td>6482.35</td>\n",
       "      <td>6525.46</td>\n",
       "      <td>6465.55</td>\n",
       "      <td>6486.11</td>\n",
       "      <td>315304544</td>\n",
       "    </tr>\n",
       "    <tr>\n",
       "      <th>24</th>\n",
       "      <td>20-Mar-16</td>\n",
       "      <td>6394.67</td>\n",
       "      <td>6501.06</td>\n",
       "      <td>6396.28</td>\n",
       "      <td>6482.35</td>\n",
       "      <td>335528140</td>\n",
       "    </tr>\n",
       "    <tr>\n",
       "      <th>25</th>\n",
       "      <td>17-Mar-16</td>\n",
       "      <td>6305.78</td>\n",
       "      <td>6413.39</td>\n",
       "      <td>6306.58</td>\n",
       "      <td>6394.67</td>\n",
       "      <td>309965312</td>\n",
       "    </tr>\n",
       "    <tr>\n",
       "      <th>26</th>\n",
       "      <td>16-Mar-16</td>\n",
       "      <td>6232.69</td>\n",
       "      <td>6306.97</td>\n",
       "      <td>6218.72</td>\n",
       "      <td>6305.78</td>\n",
       "      <td>252292476</td>\n",
       "    </tr>\n",
       "    <tr>\n",
       "      <th>27</th>\n",
       "      <td>15-Mar-16</td>\n",
       "      <td>6288.30</td>\n",
       "      <td>6288.30</td>\n",
       "      <td>6202.17</td>\n",
       "      <td>6232.69</td>\n",
       "      <td>236279840</td>\n",
       "    </tr>\n",
       "    <tr>\n",
       "      <th>28</th>\n",
       "      <td>14-Mar-16</td>\n",
       "      <td>6369.31</td>\n",
       "      <td>6385.50</td>\n",
       "      <td>6287.80</td>\n",
       "      <td>6288.30</td>\n",
       "      <td>311408078</td>\n",
       "    </tr>\n",
       "    <tr>\n",
       "      <th>29</th>\n",
       "      <td>13-Mar-16</td>\n",
       "      <td>6354.48</td>\n",
       "      <td>6404.35</td>\n",
       "      <td>6354.48</td>\n",
       "      <td>6369.31</td>\n",
       "      <td>263138237</td>\n",
       "    </tr>\n",
       "    <tr>\n",
       "      <th>...</th>\n",
       "      <td>...</td>\n",
       "      <td>...</td>\n",
       "      <td>...</td>\n",
       "      <td>...</td>\n",
       "      <td>...</td>\n",
       "      <td>...</td>\n",
       "    </tr>\n",
       "    <tr>\n",
       "      <th>220</th>\n",
       "      <td>7-Jun-15</td>\n",
       "      <td>9668.10</td>\n",
       "      <td>9671.08</td>\n",
       "      <td>9568.16</td>\n",
       "      <td>9588.01</td>\n",
       "      <td>138841538</td>\n",
       "    </tr>\n",
       "    <tr>\n",
       "      <th>221</th>\n",
       "      <td>4-Jun-15</td>\n",
       "      <td>9678.75</td>\n",
       "      <td>9684.44</td>\n",
       "      <td>9629.15</td>\n",
       "      <td>9668.10</td>\n",
       "      <td>142395120</td>\n",
       "    </tr>\n",
       "    <tr>\n",
       "      <th>222</th>\n",
       "      <td>3-Jun-15</td>\n",
       "      <td>9716.71</td>\n",
       "      <td>9724.92</td>\n",
       "      <td>9666.35</td>\n",
       "      <td>9678.75</td>\n",
       "      <td>158243600</td>\n",
       "    </tr>\n",
       "    <tr>\n",
       "      <th>223</th>\n",
       "      <td>2-Jun-15</td>\n",
       "      <td>9693.58</td>\n",
       "      <td>9727.48</td>\n",
       "      <td>9676.18</td>\n",
       "      <td>9716.71</td>\n",
       "      <td>153081489</td>\n",
       "    </tr>\n",
       "    <tr>\n",
       "      <th>224</th>\n",
       "      <td>1-Jun-15</td>\n",
       "      <td>9688.69</td>\n",
       "      <td>9703.34</td>\n",
       "      <td>9620.81</td>\n",
       "      <td>9693.58</td>\n",
       "      <td>162122698</td>\n",
       "    </tr>\n",
       "    <tr>\n",
       "      <th>225</th>\n",
       "      <td>31-May-15</td>\n",
       "      <td>9757.07</td>\n",
       "      <td>9777.72</td>\n",
       "      <td>9685.07</td>\n",
       "      <td>9688.69</td>\n",
       "      <td>178664127</td>\n",
       "    </tr>\n",
       "    <tr>\n",
       "      <th>226</th>\n",
       "      <td>28-May-15</td>\n",
       "      <td>9753.32</td>\n",
       "      <td>9784.97</td>\n",
       "      <td>9721.42</td>\n",
       "      <td>9757.07</td>\n",
       "      <td>164591916</td>\n",
       "    </tr>\n",
       "    <tr>\n",
       "      <th>227</th>\n",
       "      <td>27-May-15</td>\n",
       "      <td>9801.40</td>\n",
       "      <td>9816.18</td>\n",
       "      <td>9750.73</td>\n",
       "      <td>9753.32</td>\n",
       "      <td>216324450</td>\n",
       "    </tr>\n",
       "    <tr>\n",
       "      <th>228</th>\n",
       "      <td>26-May-15</td>\n",
       "      <td>9726.96</td>\n",
       "      <td>9801.40</td>\n",
       "      <td>9726.68</td>\n",
       "      <td>9801.40</td>\n",
       "      <td>246843718</td>\n",
       "    </tr>\n",
       "    <tr>\n",
       "      <th>229</th>\n",
       "      <td>25-May-15</td>\n",
       "      <td>9732.52</td>\n",
       "      <td>9766.09</td>\n",
       "      <td>9714.59</td>\n",
       "      <td>9726.96</td>\n",
       "      <td>232269669</td>\n",
       "    </tr>\n",
       "    <tr>\n",
       "      <th>230</th>\n",
       "      <td>24-May-15</td>\n",
       "      <td>9768.09</td>\n",
       "      <td>9768.09</td>\n",
       "      <td>9662.89</td>\n",
       "      <td>9732.52</td>\n",
       "      <td>229182161</td>\n",
       "    </tr>\n",
       "    <tr>\n",
       "      <th>231</th>\n",
       "      <td>21-May-15</td>\n",
       "      <td>9731.30</td>\n",
       "      <td>9768.64</td>\n",
       "      <td>9695.00</td>\n",
       "      <td>9768.09</td>\n",
       "      <td>193674919</td>\n",
       "    </tr>\n",
       "    <tr>\n",
       "      <th>232</th>\n",
       "      <td>20-May-15</td>\n",
       "      <td>9811.12</td>\n",
       "      <td>9811.12</td>\n",
       "      <td>9716.45</td>\n",
       "      <td>9731.30</td>\n",
       "      <td>212522559</td>\n",
       "    </tr>\n",
       "    <tr>\n",
       "      <th>233</th>\n",
       "      <td>19-May-15</td>\n",
       "      <td>9807.87</td>\n",
       "      <td>9820.79</td>\n",
       "      <td>9782.72</td>\n",
       "      <td>9811.12</td>\n",
       "      <td>208895860</td>\n",
       "    </tr>\n",
       "    <tr>\n",
       "      <th>234</th>\n",
       "      <td>18-May-15</td>\n",
       "      <td>9814.65</td>\n",
       "      <td>9829.76</td>\n",
       "      <td>9784.22</td>\n",
       "      <td>9807.87</td>\n",
       "      <td>219190027</td>\n",
       "    </tr>\n",
       "    <tr>\n",
       "      <th>235</th>\n",
       "      <td>17-May-15</td>\n",
       "      <td>9731.54</td>\n",
       "      <td>9826.14</td>\n",
       "      <td>9731.54</td>\n",
       "      <td>9814.65</td>\n",
       "      <td>242385383</td>\n",
       "    </tr>\n",
       "    <tr>\n",
       "      <th>236</th>\n",
       "      <td>14-May-15</td>\n",
       "      <td>9671.97</td>\n",
       "      <td>9777.19</td>\n",
       "      <td>9668.12</td>\n",
       "      <td>9731.54</td>\n",
       "      <td>207316572</td>\n",
       "    </tr>\n",
       "    <tr>\n",
       "      <th>237</th>\n",
       "      <td>13-May-15</td>\n",
       "      <td>9627.41</td>\n",
       "      <td>9672.83</td>\n",
       "      <td>9613.89</td>\n",
       "      <td>9671.97</td>\n",
       "      <td>173145544</td>\n",
       "    </tr>\n",
       "    <tr>\n",
       "      <th>238</th>\n",
       "      <td>12-May-15</td>\n",
       "      <td>9583.24</td>\n",
       "      <td>9630.95</td>\n",
       "      <td>9538.75</td>\n",
       "      <td>9627.41</td>\n",
       "      <td>176679211</td>\n",
       "    </tr>\n",
       "    <tr>\n",
       "      <th>239</th>\n",
       "      <td>11-May-15</td>\n",
       "      <td>9710.52</td>\n",
       "      <td>9720.99</td>\n",
       "      <td>9567.92</td>\n",
       "      <td>9583.24</td>\n",
       "      <td>258770991</td>\n",
       "    </tr>\n",
       "    <tr>\n",
       "      <th>240</th>\n",
       "      <td>10-May-15</td>\n",
       "      <td>9717.90</td>\n",
       "      <td>9740.40</td>\n",
       "      <td>9688.08</td>\n",
       "      <td>9710.52</td>\n",
       "      <td>219660747</td>\n",
       "    </tr>\n",
       "    <tr>\n",
       "      <th>241</th>\n",
       "      <td>7-May-15</td>\n",
       "      <td>9781.69</td>\n",
       "      <td>9782.80</td>\n",
       "      <td>9663.29</td>\n",
       "      <td>9717.90</td>\n",
       "      <td>238697037</td>\n",
       "    </tr>\n",
       "    <tr>\n",
       "      <th>242</th>\n",
       "      <td>6-May-15</td>\n",
       "      <td>9751.03</td>\n",
       "      <td>9799.15</td>\n",
       "      <td>9719.41</td>\n",
       "      <td>9781.69</td>\n",
       "      <td>273826637</td>\n",
       "    </tr>\n",
       "    <tr>\n",
       "      <th>243</th>\n",
       "      <td>5-May-15</td>\n",
       "      <td>9787.00</td>\n",
       "      <td>9846.92</td>\n",
       "      <td>9746.94</td>\n",
       "      <td>9751.03</td>\n",
       "      <td>329395709</td>\n",
       "    </tr>\n",
       "    <tr>\n",
       "      <th>244</th>\n",
       "      <td>4-May-15</td>\n",
       "      <td>9764.24</td>\n",
       "      <td>9790.31</td>\n",
       "      <td>9722.15</td>\n",
       "      <td>9787.00</td>\n",
       "      <td>269907107</td>\n",
       "    </tr>\n",
       "    <tr>\n",
       "      <th>245</th>\n",
       "      <td>3-May-15</td>\n",
       "      <td>9834.49</td>\n",
       "      <td>9884.60</td>\n",
       "      <td>9738.95</td>\n",
       "      <td>9764.24</td>\n",
       "      <td>387700128</td>\n",
       "    </tr>\n",
       "    <tr>\n",
       "      <th>246</th>\n",
       "      <td>30-Apr-15</td>\n",
       "      <td>9812.40</td>\n",
       "      <td>9897.46</td>\n",
       "      <td>9812.40</td>\n",
       "      <td>9834.49</td>\n",
       "      <td>388358126</td>\n",
       "    </tr>\n",
       "    <tr>\n",
       "      <th>247</th>\n",
       "      <td>29-Apr-15</td>\n",
       "      <td>9713.07</td>\n",
       "      <td>9818.98</td>\n",
       "      <td>9668.76</td>\n",
       "      <td>9812.40</td>\n",
       "      <td>428702724</td>\n",
       "    </tr>\n",
       "    <tr>\n",
       "      <th>248</th>\n",
       "      <td>28-Apr-15</td>\n",
       "      <td>9710.93</td>\n",
       "      <td>9758.99</td>\n",
       "      <td>9682.11</td>\n",
       "      <td>9713.07</td>\n",
       "      <td>383624969</td>\n",
       "    </tr>\n",
       "    <tr>\n",
       "      <th>249</th>\n",
       "      <td>27-Apr-15</td>\n",
       "      <td>9725.17</td>\n",
       "      <td>9737.68</td>\n",
       "      <td>9668.19</td>\n",
       "      <td>9710.93</td>\n",
       "      <td>378748998</td>\n",
       "    </tr>\n",
       "  </tbody>\n",
       "</table>\n",
       "<p>250 rows × 6 columns</p>\n",
       "</div>"
      ],
      "text/plain": [
       "         ﻿Date     Open     High      Low    Close     Volume\n",
       "0    21-Apr-16  6512.43  6597.18  6510.80  6587.68  391429221\n",
       "1    20-Apr-16  6531.90  6538.21  6482.59  6512.43  288815436\n",
       "2    19-Apr-16  6424.90  6534.91  6425.71  6531.90  325625683\n",
       "3    18-Apr-16  6412.37  6428.16  6309.61  6424.90  286739892\n",
       "4    17-Apr-16  6509.02  6531.20  6398.76  6412.37  301506913\n",
       "5    14-Apr-16  6442.04  6513.09  6435.18  6509.02  294802367\n",
       "6    13-Apr-16  6403.60  6447.64  6404.41  6442.04  317630616\n",
       "7    12-Apr-16  6311.58  6418.44  6296.67  6403.60  286182161\n",
       "8    11-Apr-16  6346.16  6346.16  6306.07  6311.58  266368988\n",
       "9    10-Apr-16  6258.11  6352.95  6257.13  6346.16  190494047\n",
       "10    7-Apr-16  6213.58  6273.34  6214.38  6258.11  226839151\n",
       "11    6-Apr-16  6201.09  6251.11  6195.39  6213.58  253491214\n",
       "12    5-Apr-16  6210.91  6210.91  6156.09  6201.09  224543310\n",
       "13    4-Apr-16  6126.12  6219.45  6117.57  6210.91  195703042\n",
       "14    3-Apr-16  6223.13  6223.13  6065.86  6126.12  183427068\n",
       "15   31-Mar-16  6215.65  6232.93  6153.55  6223.13  185368502\n",
       "16   30-Mar-16  6176.84  6222.97  6163.99  6215.65  187742803\n",
       "17   29-Mar-16  6268.71  6268.35  6141.98  6176.84  204334935\n",
       "18   28-Mar-16  6256.68  6321.71  6233.56  6268.71  230321520\n",
       "19   27-Mar-16  6350.90  6360.39  6238.46  6256.68  256957738\n",
       "20   24-Mar-16  6460.98  6460.78  6345.19  6350.90  272246399\n",
       "21   23-Mar-16  6481.68  6517.89  6458.22  6460.98  279217121\n",
       "22   22-Mar-16  6486.11  6515.34  6427.87  6481.68  335386296\n",
       "23   21-Mar-16  6482.35  6525.46  6465.55  6486.11  315304544\n",
       "24   20-Mar-16  6394.67  6501.06  6396.28  6482.35  335528140\n",
       "25   17-Mar-16  6305.78  6413.39  6306.58  6394.67  309965312\n",
       "26   16-Mar-16  6232.69  6306.97  6218.72  6305.78  252292476\n",
       "27   15-Mar-16  6288.30  6288.30  6202.17  6232.69  236279840\n",
       "28   14-Mar-16  6369.31  6385.50  6287.80  6288.30  311408078\n",
       "29   13-Mar-16  6354.48  6404.35  6354.48  6369.31  263138237\n",
       "..         ...      ...      ...      ...      ...        ...\n",
       "220   7-Jun-15  9668.10  9671.08  9568.16  9588.01  138841538\n",
       "221   4-Jun-15  9678.75  9684.44  9629.15  9668.10  142395120\n",
       "222   3-Jun-15  9716.71  9724.92  9666.35  9678.75  158243600\n",
       "223   2-Jun-15  9693.58  9727.48  9676.18  9716.71  153081489\n",
       "224   1-Jun-15  9688.69  9703.34  9620.81  9693.58  162122698\n",
       "225  31-May-15  9757.07  9777.72  9685.07  9688.69  178664127\n",
       "226  28-May-15  9753.32  9784.97  9721.42  9757.07  164591916\n",
       "227  27-May-15  9801.40  9816.18  9750.73  9753.32  216324450\n",
       "228  26-May-15  9726.96  9801.40  9726.68  9801.40  246843718\n",
       "229  25-May-15  9732.52  9766.09  9714.59  9726.96  232269669\n",
       "230  24-May-15  9768.09  9768.09  9662.89  9732.52  229182161\n",
       "231  21-May-15  9731.30  9768.64  9695.00  9768.09  193674919\n",
       "232  20-May-15  9811.12  9811.12  9716.45  9731.30  212522559\n",
       "233  19-May-15  9807.87  9820.79  9782.72  9811.12  208895860\n",
       "234  18-May-15  9814.65  9829.76  9784.22  9807.87  219190027\n",
       "235  17-May-15  9731.54  9826.14  9731.54  9814.65  242385383\n",
       "236  14-May-15  9671.97  9777.19  9668.12  9731.54  207316572\n",
       "237  13-May-15  9627.41  9672.83  9613.89  9671.97  173145544\n",
       "238  12-May-15  9583.24  9630.95  9538.75  9627.41  176679211\n",
       "239  11-May-15  9710.52  9720.99  9567.92  9583.24  258770991\n",
       "240  10-May-15  9717.90  9740.40  9688.08  9710.52  219660747\n",
       "241   7-May-15  9781.69  9782.80  9663.29  9717.90  238697037\n",
       "242   6-May-15  9751.03  9799.15  9719.41  9781.69  273826637\n",
       "243   5-May-15  9787.00  9846.92  9746.94  9751.03  329395709\n",
       "244   4-May-15  9764.24  9790.31  9722.15  9787.00  269907107\n",
       "245   3-May-15  9834.49  9884.60  9738.95  9764.24  387700128\n",
       "246  30-Apr-15  9812.40  9897.46  9812.40  9834.49  388358126\n",
       "247  29-Apr-15  9713.07  9818.98  9668.76  9812.40  428702724\n",
       "248  28-Apr-15  9710.93  9758.99  9682.11  9713.07  383624969\n",
       "249  27-Apr-15  9725.17  9737.68  9668.19  9710.93  378748998\n",
       "\n",
       "[250 rows x 6 columns]"
      ]
     },
     "execution_count": 76,
     "metadata": {},
     "output_type": "execute_result"
    }
   ],
   "source": [
    "stocks_data"
   ]
  },
  {
   "cell_type": "code",
   "execution_count": 77,
   "metadata": {
    "collapsed": false
   },
   "outputs": [
    {
     "data": {
      "text/html": [
       "<div>\n",
       "<table border=\"1\" class=\"dataframe\">\n",
       "  <thead>\n",
       "    <tr style=\"text-align: right;\">\n",
       "      <th></th>\n",
       "      <th>﻿Date</th>\n",
       "      <th>Open</th>\n",
       "      <th>High</th>\n",
       "      <th>Low</th>\n",
       "      <th>Close</th>\n",
       "      <th>Volume</th>\n",
       "      <th>change_amount</th>\n",
       "      <th>change_percentage</th>\n",
       "    </tr>\n",
       "  </thead>\n",
       "  <tbody>\n",
       "    <tr>\n",
       "      <th>0</th>\n",
       "      <td>21-Apr-16</td>\n",
       "      <td>6512.43</td>\n",
       "      <td>6597.18</td>\n",
       "      <td>6510.80</td>\n",
       "      <td>6587.68</td>\n",
       "      <td>391429221</td>\n",
       "      <td>75.25</td>\n",
       "      <td>0.011423</td>\n",
       "    </tr>\n",
       "    <tr>\n",
       "      <th>1</th>\n",
       "      <td>20-Apr-16</td>\n",
       "      <td>6531.90</td>\n",
       "      <td>6538.21</td>\n",
       "      <td>6482.59</td>\n",
       "      <td>6512.43</td>\n",
       "      <td>288815436</td>\n",
       "      <td>-19.47</td>\n",
       "      <td>-0.002990</td>\n",
       "    </tr>\n",
       "    <tr>\n",
       "      <th>2</th>\n",
       "      <td>19-Apr-16</td>\n",
       "      <td>6424.90</td>\n",
       "      <td>6534.91</td>\n",
       "      <td>6425.71</td>\n",
       "      <td>6531.90</td>\n",
       "      <td>325625683</td>\n",
       "      <td>107.00</td>\n",
       "      <td>0.016381</td>\n",
       "    </tr>\n",
       "    <tr>\n",
       "      <th>3</th>\n",
       "      <td>18-Apr-16</td>\n",
       "      <td>6412.37</td>\n",
       "      <td>6428.16</td>\n",
       "      <td>6309.61</td>\n",
       "      <td>6424.90</td>\n",
       "      <td>286739892</td>\n",
       "      <td>12.53</td>\n",
       "      <td>0.001950</td>\n",
       "    </tr>\n",
       "    <tr>\n",
       "      <th>4</th>\n",
       "      <td>17-Apr-16</td>\n",
       "      <td>6509.02</td>\n",
       "      <td>6531.20</td>\n",
       "      <td>6398.76</td>\n",
       "      <td>6412.37</td>\n",
       "      <td>301506913</td>\n",
       "      <td>-96.65</td>\n",
       "      <td>-0.015072</td>\n",
       "    </tr>\n",
       "    <tr>\n",
       "      <th>5</th>\n",
       "      <td>14-Apr-16</td>\n",
       "      <td>6442.04</td>\n",
       "      <td>6513.09</td>\n",
       "      <td>6435.18</td>\n",
       "      <td>6509.02</td>\n",
       "      <td>294802367</td>\n",
       "      <td>66.98</td>\n",
       "      <td>0.010290</td>\n",
       "    </tr>\n",
       "    <tr>\n",
       "      <th>6</th>\n",
       "      <td>13-Apr-16</td>\n",
       "      <td>6403.60</td>\n",
       "      <td>6447.64</td>\n",
       "      <td>6404.41</td>\n",
       "      <td>6442.04</td>\n",
       "      <td>317630616</td>\n",
       "      <td>38.44</td>\n",
       "      <td>0.005967</td>\n",
       "    </tr>\n",
       "    <tr>\n",
       "      <th>7</th>\n",
       "      <td>12-Apr-16</td>\n",
       "      <td>6311.58</td>\n",
       "      <td>6418.44</td>\n",
       "      <td>6296.67</td>\n",
       "      <td>6403.60</td>\n",
       "      <td>286182161</td>\n",
       "      <td>92.02</td>\n",
       "      <td>0.014370</td>\n",
       "    </tr>\n",
       "    <tr>\n",
       "      <th>8</th>\n",
       "      <td>11-Apr-16</td>\n",
       "      <td>6346.16</td>\n",
       "      <td>6346.16</td>\n",
       "      <td>6306.07</td>\n",
       "      <td>6311.58</td>\n",
       "      <td>266368988</td>\n",
       "      <td>-34.58</td>\n",
       "      <td>-0.005479</td>\n",
       "    </tr>\n",
       "    <tr>\n",
       "      <th>9</th>\n",
       "      <td>10-Apr-16</td>\n",
       "      <td>6258.11</td>\n",
       "      <td>6352.95</td>\n",
       "      <td>6257.13</td>\n",
       "      <td>6346.16</td>\n",
       "      <td>190494047</td>\n",
       "      <td>88.05</td>\n",
       "      <td>0.013875</td>\n",
       "    </tr>\n",
       "    <tr>\n",
       "      <th>10</th>\n",
       "      <td>7-Apr-16</td>\n",
       "      <td>6213.58</td>\n",
       "      <td>6273.34</td>\n",
       "      <td>6214.38</td>\n",
       "      <td>6258.11</td>\n",
       "      <td>226839151</td>\n",
       "      <td>44.53</td>\n",
       "      <td>0.007116</td>\n",
       "    </tr>\n",
       "    <tr>\n",
       "      <th>11</th>\n",
       "      <td>6-Apr-16</td>\n",
       "      <td>6201.09</td>\n",
       "      <td>6251.11</td>\n",
       "      <td>6195.39</td>\n",
       "      <td>6213.58</td>\n",
       "      <td>253491214</td>\n",
       "      <td>12.49</td>\n",
       "      <td>0.002010</td>\n",
       "    </tr>\n",
       "    <tr>\n",
       "      <th>12</th>\n",
       "      <td>5-Apr-16</td>\n",
       "      <td>6210.91</td>\n",
       "      <td>6210.91</td>\n",
       "      <td>6156.09</td>\n",
       "      <td>6201.09</td>\n",
       "      <td>224543310</td>\n",
       "      <td>-9.82</td>\n",
       "      <td>-0.001584</td>\n",
       "    </tr>\n",
       "    <tr>\n",
       "      <th>13</th>\n",
       "      <td>4-Apr-16</td>\n",
       "      <td>6126.12</td>\n",
       "      <td>6219.45</td>\n",
       "      <td>6117.57</td>\n",
       "      <td>6210.91</td>\n",
       "      <td>195703042</td>\n",
       "      <td>84.79</td>\n",
       "      <td>0.013652</td>\n",
       "    </tr>\n",
       "    <tr>\n",
       "      <th>14</th>\n",
       "      <td>3-Apr-16</td>\n",
       "      <td>6223.13</td>\n",
       "      <td>6223.13</td>\n",
       "      <td>6065.86</td>\n",
       "      <td>6126.12</td>\n",
       "      <td>183427068</td>\n",
       "      <td>-97.01</td>\n",
       "      <td>-0.015835</td>\n",
       "    </tr>\n",
       "    <tr>\n",
       "      <th>15</th>\n",
       "      <td>31-Mar-16</td>\n",
       "      <td>6215.65</td>\n",
       "      <td>6232.93</td>\n",
       "      <td>6153.55</td>\n",
       "      <td>6223.13</td>\n",
       "      <td>185368502</td>\n",
       "      <td>7.48</td>\n",
       "      <td>0.001202</td>\n",
       "    </tr>\n",
       "    <tr>\n",
       "      <th>16</th>\n",
       "      <td>30-Mar-16</td>\n",
       "      <td>6176.84</td>\n",
       "      <td>6222.97</td>\n",
       "      <td>6163.99</td>\n",
       "      <td>6215.65</td>\n",
       "      <td>187742803</td>\n",
       "      <td>38.81</td>\n",
       "      <td>0.006244</td>\n",
       "    </tr>\n",
       "    <tr>\n",
       "      <th>17</th>\n",
       "      <td>29-Mar-16</td>\n",
       "      <td>6268.71</td>\n",
       "      <td>6268.35</td>\n",
       "      <td>6141.98</td>\n",
       "      <td>6176.84</td>\n",
       "      <td>204334935</td>\n",
       "      <td>-91.87</td>\n",
       "      <td>-0.014873</td>\n",
       "    </tr>\n",
       "    <tr>\n",
       "      <th>18</th>\n",
       "      <td>28-Mar-16</td>\n",
       "      <td>6256.68</td>\n",
       "      <td>6321.71</td>\n",
       "      <td>6233.56</td>\n",
       "      <td>6268.71</td>\n",
       "      <td>230321520</td>\n",
       "      <td>12.03</td>\n",
       "      <td>0.001919</td>\n",
       "    </tr>\n",
       "    <tr>\n",
       "      <th>19</th>\n",
       "      <td>27-Mar-16</td>\n",
       "      <td>6350.90</td>\n",
       "      <td>6360.39</td>\n",
       "      <td>6238.46</td>\n",
       "      <td>6256.68</td>\n",
       "      <td>256957738</td>\n",
       "      <td>-94.22</td>\n",
       "      <td>-0.015059</td>\n",
       "    </tr>\n",
       "    <tr>\n",
       "      <th>20</th>\n",
       "      <td>24-Mar-16</td>\n",
       "      <td>6460.98</td>\n",
       "      <td>6460.78</td>\n",
       "      <td>6345.19</td>\n",
       "      <td>6350.90</td>\n",
       "      <td>272246399</td>\n",
       "      <td>-110.08</td>\n",
       "      <td>-0.017333</td>\n",
       "    </tr>\n",
       "    <tr>\n",
       "      <th>21</th>\n",
       "      <td>23-Mar-16</td>\n",
       "      <td>6481.68</td>\n",
       "      <td>6517.89</td>\n",
       "      <td>6458.22</td>\n",
       "      <td>6460.98</td>\n",
       "      <td>279217121</td>\n",
       "      <td>-20.70</td>\n",
       "      <td>-0.003204</td>\n",
       "    </tr>\n",
       "    <tr>\n",
       "      <th>22</th>\n",
       "      <td>22-Mar-16</td>\n",
       "      <td>6486.11</td>\n",
       "      <td>6515.34</td>\n",
       "      <td>6427.87</td>\n",
       "      <td>6481.68</td>\n",
       "      <td>335386296</td>\n",
       "      <td>-4.43</td>\n",
       "      <td>-0.000683</td>\n",
       "    </tr>\n",
       "    <tr>\n",
       "      <th>23</th>\n",
       "      <td>21-Mar-16</td>\n",
       "      <td>6482.35</td>\n",
       "      <td>6525.46</td>\n",
       "      <td>6465.55</td>\n",
       "      <td>6486.11</td>\n",
       "      <td>315304544</td>\n",
       "      <td>3.76</td>\n",
       "      <td>0.000580</td>\n",
       "    </tr>\n",
       "    <tr>\n",
       "      <th>24</th>\n",
       "      <td>20-Mar-16</td>\n",
       "      <td>6394.67</td>\n",
       "      <td>6501.06</td>\n",
       "      <td>6396.28</td>\n",
       "      <td>6482.35</td>\n",
       "      <td>335528140</td>\n",
       "      <td>87.68</td>\n",
       "      <td>0.013526</td>\n",
       "    </tr>\n",
       "    <tr>\n",
       "      <th>25</th>\n",
       "      <td>17-Mar-16</td>\n",
       "      <td>6305.78</td>\n",
       "      <td>6413.39</td>\n",
       "      <td>6306.58</td>\n",
       "      <td>6394.67</td>\n",
       "      <td>309965312</td>\n",
       "      <td>88.89</td>\n",
       "      <td>0.013901</td>\n",
       "    </tr>\n",
       "    <tr>\n",
       "      <th>26</th>\n",
       "      <td>16-Mar-16</td>\n",
       "      <td>6232.69</td>\n",
       "      <td>6306.97</td>\n",
       "      <td>6218.72</td>\n",
       "      <td>6305.78</td>\n",
       "      <td>252292476</td>\n",
       "      <td>73.09</td>\n",
       "      <td>0.011591</td>\n",
       "    </tr>\n",
       "    <tr>\n",
       "      <th>27</th>\n",
       "      <td>15-Mar-16</td>\n",
       "      <td>6288.30</td>\n",
       "      <td>6288.30</td>\n",
       "      <td>6202.17</td>\n",
       "      <td>6232.69</td>\n",
       "      <td>236279840</td>\n",
       "      <td>-55.61</td>\n",
       "      <td>-0.008922</td>\n",
       "    </tr>\n",
       "    <tr>\n",
       "      <th>28</th>\n",
       "      <td>14-Mar-16</td>\n",
       "      <td>6369.31</td>\n",
       "      <td>6385.50</td>\n",
       "      <td>6287.80</td>\n",
       "      <td>6288.30</td>\n",
       "      <td>311408078</td>\n",
       "      <td>-81.01</td>\n",
       "      <td>-0.012883</td>\n",
       "    </tr>\n",
       "    <tr>\n",
       "      <th>29</th>\n",
       "      <td>13-Mar-16</td>\n",
       "      <td>6354.48</td>\n",
       "      <td>6404.35</td>\n",
       "      <td>6354.48</td>\n",
       "      <td>6369.31</td>\n",
       "      <td>263138237</td>\n",
       "      <td>14.83</td>\n",
       "      <td>0.002328</td>\n",
       "    </tr>\n",
       "    <tr>\n",
       "      <th>...</th>\n",
       "      <td>...</td>\n",
       "      <td>...</td>\n",
       "      <td>...</td>\n",
       "      <td>...</td>\n",
       "      <td>...</td>\n",
       "      <td>...</td>\n",
       "      <td>...</td>\n",
       "      <td>...</td>\n",
       "    </tr>\n",
       "    <tr>\n",
       "      <th>220</th>\n",
       "      <td>7-Jun-15</td>\n",
       "      <td>9668.10</td>\n",
       "      <td>9671.08</td>\n",
       "      <td>9568.16</td>\n",
       "      <td>9588.01</td>\n",
       "      <td>138841538</td>\n",
       "      <td>-80.09</td>\n",
       "      <td>-0.008353</td>\n",
       "    </tr>\n",
       "    <tr>\n",
       "      <th>221</th>\n",
       "      <td>4-Jun-15</td>\n",
       "      <td>9678.75</td>\n",
       "      <td>9684.44</td>\n",
       "      <td>9629.15</td>\n",
       "      <td>9668.10</td>\n",
       "      <td>142395120</td>\n",
       "      <td>-10.65</td>\n",
       "      <td>-0.001102</td>\n",
       "    </tr>\n",
       "    <tr>\n",
       "      <th>222</th>\n",
       "      <td>3-Jun-15</td>\n",
       "      <td>9716.71</td>\n",
       "      <td>9724.92</td>\n",
       "      <td>9666.35</td>\n",
       "      <td>9678.75</td>\n",
       "      <td>158243600</td>\n",
       "      <td>-37.96</td>\n",
       "      <td>-0.003922</td>\n",
       "    </tr>\n",
       "    <tr>\n",
       "      <th>223</th>\n",
       "      <td>2-Jun-15</td>\n",
       "      <td>9693.58</td>\n",
       "      <td>9727.48</td>\n",
       "      <td>9676.18</td>\n",
       "      <td>9716.71</td>\n",
       "      <td>153081489</td>\n",
       "      <td>23.13</td>\n",
       "      <td>0.002380</td>\n",
       "    </tr>\n",
       "    <tr>\n",
       "      <th>224</th>\n",
       "      <td>1-Jun-15</td>\n",
       "      <td>9688.69</td>\n",
       "      <td>9703.34</td>\n",
       "      <td>9620.81</td>\n",
       "      <td>9693.58</td>\n",
       "      <td>162122698</td>\n",
       "      <td>4.89</td>\n",
       "      <td>0.000504</td>\n",
       "    </tr>\n",
       "    <tr>\n",
       "      <th>225</th>\n",
       "      <td>31-May-15</td>\n",
       "      <td>9757.07</td>\n",
       "      <td>9777.72</td>\n",
       "      <td>9685.07</td>\n",
       "      <td>9688.69</td>\n",
       "      <td>178664127</td>\n",
       "      <td>-68.38</td>\n",
       "      <td>-0.007058</td>\n",
       "    </tr>\n",
       "    <tr>\n",
       "      <th>226</th>\n",
       "      <td>28-May-15</td>\n",
       "      <td>9753.32</td>\n",
       "      <td>9784.97</td>\n",
       "      <td>9721.42</td>\n",
       "      <td>9757.07</td>\n",
       "      <td>164591916</td>\n",
       "      <td>3.75</td>\n",
       "      <td>0.000384</td>\n",
       "    </tr>\n",
       "    <tr>\n",
       "      <th>227</th>\n",
       "      <td>27-May-15</td>\n",
       "      <td>9801.40</td>\n",
       "      <td>9816.18</td>\n",
       "      <td>9750.73</td>\n",
       "      <td>9753.32</td>\n",
       "      <td>216324450</td>\n",
       "      <td>-48.08</td>\n",
       "      <td>-0.004930</td>\n",
       "    </tr>\n",
       "    <tr>\n",
       "      <th>228</th>\n",
       "      <td>26-May-15</td>\n",
       "      <td>9726.96</td>\n",
       "      <td>9801.40</td>\n",
       "      <td>9726.68</td>\n",
       "      <td>9801.40</td>\n",
       "      <td>246843718</td>\n",
       "      <td>74.44</td>\n",
       "      <td>0.007595</td>\n",
       "    </tr>\n",
       "    <tr>\n",
       "      <th>229</th>\n",
       "      <td>25-May-15</td>\n",
       "      <td>9732.52</td>\n",
       "      <td>9766.09</td>\n",
       "      <td>9714.59</td>\n",
       "      <td>9726.96</td>\n",
       "      <td>232269669</td>\n",
       "      <td>-5.56</td>\n",
       "      <td>-0.000572</td>\n",
       "    </tr>\n",
       "    <tr>\n",
       "      <th>230</th>\n",
       "      <td>24-May-15</td>\n",
       "      <td>9768.09</td>\n",
       "      <td>9768.09</td>\n",
       "      <td>9662.89</td>\n",
       "      <td>9732.52</td>\n",
       "      <td>229182161</td>\n",
       "      <td>-35.57</td>\n",
       "      <td>-0.003655</td>\n",
       "    </tr>\n",
       "    <tr>\n",
       "      <th>231</th>\n",
       "      <td>21-May-15</td>\n",
       "      <td>9731.30</td>\n",
       "      <td>9768.64</td>\n",
       "      <td>9695.00</td>\n",
       "      <td>9768.09</td>\n",
       "      <td>193674919</td>\n",
       "      <td>36.79</td>\n",
       "      <td>0.003766</td>\n",
       "    </tr>\n",
       "    <tr>\n",
       "      <th>232</th>\n",
       "      <td>20-May-15</td>\n",
       "      <td>9811.12</td>\n",
       "      <td>9811.12</td>\n",
       "      <td>9716.45</td>\n",
       "      <td>9731.30</td>\n",
       "      <td>212522559</td>\n",
       "      <td>-79.82</td>\n",
       "      <td>-0.008202</td>\n",
       "    </tr>\n",
       "    <tr>\n",
       "      <th>233</th>\n",
       "      <td>19-May-15</td>\n",
       "      <td>9807.87</td>\n",
       "      <td>9820.79</td>\n",
       "      <td>9782.72</td>\n",
       "      <td>9811.12</td>\n",
       "      <td>208895860</td>\n",
       "      <td>3.25</td>\n",
       "      <td>0.000331</td>\n",
       "    </tr>\n",
       "    <tr>\n",
       "      <th>234</th>\n",
       "      <td>18-May-15</td>\n",
       "      <td>9814.65</td>\n",
       "      <td>9829.76</td>\n",
       "      <td>9784.22</td>\n",
       "      <td>9807.87</td>\n",
       "      <td>219190027</td>\n",
       "      <td>-6.78</td>\n",
       "      <td>-0.000691</td>\n",
       "    </tr>\n",
       "    <tr>\n",
       "      <th>235</th>\n",
       "      <td>17-May-15</td>\n",
       "      <td>9731.54</td>\n",
       "      <td>9826.14</td>\n",
       "      <td>9731.54</td>\n",
       "      <td>9814.65</td>\n",
       "      <td>242385383</td>\n",
       "      <td>83.11</td>\n",
       "      <td>0.008468</td>\n",
       "    </tr>\n",
       "    <tr>\n",
       "      <th>236</th>\n",
       "      <td>14-May-15</td>\n",
       "      <td>9671.97</td>\n",
       "      <td>9777.19</td>\n",
       "      <td>9668.12</td>\n",
       "      <td>9731.54</td>\n",
       "      <td>207316572</td>\n",
       "      <td>59.57</td>\n",
       "      <td>0.006121</td>\n",
       "    </tr>\n",
       "    <tr>\n",
       "      <th>237</th>\n",
       "      <td>13-May-15</td>\n",
       "      <td>9627.41</td>\n",
       "      <td>9672.83</td>\n",
       "      <td>9613.89</td>\n",
       "      <td>9671.97</td>\n",
       "      <td>173145544</td>\n",
       "      <td>44.56</td>\n",
       "      <td>0.004607</td>\n",
       "    </tr>\n",
       "    <tr>\n",
       "      <th>238</th>\n",
       "      <td>12-May-15</td>\n",
       "      <td>9583.24</td>\n",
       "      <td>9630.95</td>\n",
       "      <td>9538.75</td>\n",
       "      <td>9627.41</td>\n",
       "      <td>176679211</td>\n",
       "      <td>44.17</td>\n",
       "      <td>0.004588</td>\n",
       "    </tr>\n",
       "    <tr>\n",
       "      <th>239</th>\n",
       "      <td>11-May-15</td>\n",
       "      <td>9710.52</td>\n",
       "      <td>9720.99</td>\n",
       "      <td>9567.92</td>\n",
       "      <td>9583.24</td>\n",
       "      <td>258770991</td>\n",
       "      <td>-127.28</td>\n",
       "      <td>-0.013282</td>\n",
       "    </tr>\n",
       "    <tr>\n",
       "      <th>240</th>\n",
       "      <td>10-May-15</td>\n",
       "      <td>9717.90</td>\n",
       "      <td>9740.40</td>\n",
       "      <td>9688.08</td>\n",
       "      <td>9710.52</td>\n",
       "      <td>219660747</td>\n",
       "      <td>-7.38</td>\n",
       "      <td>-0.000760</td>\n",
       "    </tr>\n",
       "    <tr>\n",
       "      <th>241</th>\n",
       "      <td>7-May-15</td>\n",
       "      <td>9781.69</td>\n",
       "      <td>9782.80</td>\n",
       "      <td>9663.29</td>\n",
       "      <td>9717.90</td>\n",
       "      <td>238697037</td>\n",
       "      <td>-63.79</td>\n",
       "      <td>-0.006564</td>\n",
       "    </tr>\n",
       "    <tr>\n",
       "      <th>242</th>\n",
       "      <td>6-May-15</td>\n",
       "      <td>9751.03</td>\n",
       "      <td>9799.15</td>\n",
       "      <td>9719.41</td>\n",
       "      <td>9781.69</td>\n",
       "      <td>273826637</td>\n",
       "      <td>30.66</td>\n",
       "      <td>0.003134</td>\n",
       "    </tr>\n",
       "    <tr>\n",
       "      <th>243</th>\n",
       "      <td>5-May-15</td>\n",
       "      <td>9787.00</td>\n",
       "      <td>9846.92</td>\n",
       "      <td>9746.94</td>\n",
       "      <td>9751.03</td>\n",
       "      <td>329395709</td>\n",
       "      <td>-35.97</td>\n",
       "      <td>-0.003689</td>\n",
       "    </tr>\n",
       "    <tr>\n",
       "      <th>244</th>\n",
       "      <td>4-May-15</td>\n",
       "      <td>9764.24</td>\n",
       "      <td>9790.31</td>\n",
       "      <td>9722.15</td>\n",
       "      <td>9787.00</td>\n",
       "      <td>269907107</td>\n",
       "      <td>22.76</td>\n",
       "      <td>0.002326</td>\n",
       "    </tr>\n",
       "    <tr>\n",
       "      <th>245</th>\n",
       "      <td>3-May-15</td>\n",
       "      <td>9834.49</td>\n",
       "      <td>9884.60</td>\n",
       "      <td>9738.95</td>\n",
       "      <td>9764.24</td>\n",
       "      <td>387700128</td>\n",
       "      <td>-70.25</td>\n",
       "      <td>-0.007195</td>\n",
       "    </tr>\n",
       "    <tr>\n",
       "      <th>246</th>\n",
       "      <td>30-Apr-15</td>\n",
       "      <td>9812.40</td>\n",
       "      <td>9897.46</td>\n",
       "      <td>9812.40</td>\n",
       "      <td>9834.49</td>\n",
       "      <td>388358126</td>\n",
       "      <td>22.09</td>\n",
       "      <td>0.002246</td>\n",
       "    </tr>\n",
       "    <tr>\n",
       "      <th>247</th>\n",
       "      <td>29-Apr-15</td>\n",
       "      <td>9713.07</td>\n",
       "      <td>9818.98</td>\n",
       "      <td>9668.76</td>\n",
       "      <td>9812.40</td>\n",
       "      <td>428702724</td>\n",
       "      <td>99.33</td>\n",
       "      <td>0.010123</td>\n",
       "    </tr>\n",
       "    <tr>\n",
       "      <th>248</th>\n",
       "      <td>28-Apr-15</td>\n",
       "      <td>9710.93</td>\n",
       "      <td>9758.99</td>\n",
       "      <td>9682.11</td>\n",
       "      <td>9713.07</td>\n",
       "      <td>383624969</td>\n",
       "      <td>2.14</td>\n",
       "      <td>0.000220</td>\n",
       "    </tr>\n",
       "    <tr>\n",
       "      <th>249</th>\n",
       "      <td>27-Apr-15</td>\n",
       "      <td>9725.17</td>\n",
       "      <td>9737.68</td>\n",
       "      <td>9668.19</td>\n",
       "      <td>9710.93</td>\n",
       "      <td>378748998</td>\n",
       "      <td>-14.24</td>\n",
       "      <td>-0.001466</td>\n",
       "    </tr>\n",
       "  </tbody>\n",
       "</table>\n",
       "<p>250 rows × 8 columns</p>\n",
       "</div>"
      ],
      "text/plain": [
       "         ﻿Date     Open     High      Low    Close     Volume  change_amount  \\\n",
       "0    21-Apr-16  6512.43  6597.18  6510.80  6587.68  391429221          75.25   \n",
       "1    20-Apr-16  6531.90  6538.21  6482.59  6512.43  288815436         -19.47   \n",
       "2    19-Apr-16  6424.90  6534.91  6425.71  6531.90  325625683         107.00   \n",
       "3    18-Apr-16  6412.37  6428.16  6309.61  6424.90  286739892          12.53   \n",
       "4    17-Apr-16  6509.02  6531.20  6398.76  6412.37  301506913         -96.65   \n",
       "5    14-Apr-16  6442.04  6513.09  6435.18  6509.02  294802367          66.98   \n",
       "6    13-Apr-16  6403.60  6447.64  6404.41  6442.04  317630616          38.44   \n",
       "7    12-Apr-16  6311.58  6418.44  6296.67  6403.60  286182161          92.02   \n",
       "8    11-Apr-16  6346.16  6346.16  6306.07  6311.58  266368988         -34.58   \n",
       "9    10-Apr-16  6258.11  6352.95  6257.13  6346.16  190494047          88.05   \n",
       "10    7-Apr-16  6213.58  6273.34  6214.38  6258.11  226839151          44.53   \n",
       "11    6-Apr-16  6201.09  6251.11  6195.39  6213.58  253491214          12.49   \n",
       "12    5-Apr-16  6210.91  6210.91  6156.09  6201.09  224543310          -9.82   \n",
       "13    4-Apr-16  6126.12  6219.45  6117.57  6210.91  195703042          84.79   \n",
       "14    3-Apr-16  6223.13  6223.13  6065.86  6126.12  183427068         -97.01   \n",
       "15   31-Mar-16  6215.65  6232.93  6153.55  6223.13  185368502           7.48   \n",
       "16   30-Mar-16  6176.84  6222.97  6163.99  6215.65  187742803          38.81   \n",
       "17   29-Mar-16  6268.71  6268.35  6141.98  6176.84  204334935         -91.87   \n",
       "18   28-Mar-16  6256.68  6321.71  6233.56  6268.71  230321520          12.03   \n",
       "19   27-Mar-16  6350.90  6360.39  6238.46  6256.68  256957738         -94.22   \n",
       "20   24-Mar-16  6460.98  6460.78  6345.19  6350.90  272246399        -110.08   \n",
       "21   23-Mar-16  6481.68  6517.89  6458.22  6460.98  279217121         -20.70   \n",
       "22   22-Mar-16  6486.11  6515.34  6427.87  6481.68  335386296          -4.43   \n",
       "23   21-Mar-16  6482.35  6525.46  6465.55  6486.11  315304544           3.76   \n",
       "24   20-Mar-16  6394.67  6501.06  6396.28  6482.35  335528140          87.68   \n",
       "25   17-Mar-16  6305.78  6413.39  6306.58  6394.67  309965312          88.89   \n",
       "26   16-Mar-16  6232.69  6306.97  6218.72  6305.78  252292476          73.09   \n",
       "27   15-Mar-16  6288.30  6288.30  6202.17  6232.69  236279840         -55.61   \n",
       "28   14-Mar-16  6369.31  6385.50  6287.80  6288.30  311408078         -81.01   \n",
       "29   13-Mar-16  6354.48  6404.35  6354.48  6369.31  263138237          14.83   \n",
       "..         ...      ...      ...      ...      ...        ...            ...   \n",
       "220   7-Jun-15  9668.10  9671.08  9568.16  9588.01  138841538         -80.09   \n",
       "221   4-Jun-15  9678.75  9684.44  9629.15  9668.10  142395120         -10.65   \n",
       "222   3-Jun-15  9716.71  9724.92  9666.35  9678.75  158243600         -37.96   \n",
       "223   2-Jun-15  9693.58  9727.48  9676.18  9716.71  153081489          23.13   \n",
       "224   1-Jun-15  9688.69  9703.34  9620.81  9693.58  162122698           4.89   \n",
       "225  31-May-15  9757.07  9777.72  9685.07  9688.69  178664127         -68.38   \n",
       "226  28-May-15  9753.32  9784.97  9721.42  9757.07  164591916           3.75   \n",
       "227  27-May-15  9801.40  9816.18  9750.73  9753.32  216324450         -48.08   \n",
       "228  26-May-15  9726.96  9801.40  9726.68  9801.40  246843718          74.44   \n",
       "229  25-May-15  9732.52  9766.09  9714.59  9726.96  232269669          -5.56   \n",
       "230  24-May-15  9768.09  9768.09  9662.89  9732.52  229182161         -35.57   \n",
       "231  21-May-15  9731.30  9768.64  9695.00  9768.09  193674919          36.79   \n",
       "232  20-May-15  9811.12  9811.12  9716.45  9731.30  212522559         -79.82   \n",
       "233  19-May-15  9807.87  9820.79  9782.72  9811.12  208895860           3.25   \n",
       "234  18-May-15  9814.65  9829.76  9784.22  9807.87  219190027          -6.78   \n",
       "235  17-May-15  9731.54  9826.14  9731.54  9814.65  242385383          83.11   \n",
       "236  14-May-15  9671.97  9777.19  9668.12  9731.54  207316572          59.57   \n",
       "237  13-May-15  9627.41  9672.83  9613.89  9671.97  173145544          44.56   \n",
       "238  12-May-15  9583.24  9630.95  9538.75  9627.41  176679211          44.17   \n",
       "239  11-May-15  9710.52  9720.99  9567.92  9583.24  258770991        -127.28   \n",
       "240  10-May-15  9717.90  9740.40  9688.08  9710.52  219660747          -7.38   \n",
       "241   7-May-15  9781.69  9782.80  9663.29  9717.90  238697037         -63.79   \n",
       "242   6-May-15  9751.03  9799.15  9719.41  9781.69  273826637          30.66   \n",
       "243   5-May-15  9787.00  9846.92  9746.94  9751.03  329395709         -35.97   \n",
       "244   4-May-15  9764.24  9790.31  9722.15  9787.00  269907107          22.76   \n",
       "245   3-May-15  9834.49  9884.60  9738.95  9764.24  387700128         -70.25   \n",
       "246  30-Apr-15  9812.40  9897.46  9812.40  9834.49  388358126          22.09   \n",
       "247  29-Apr-15  9713.07  9818.98  9668.76  9812.40  428702724          99.33   \n",
       "248  28-Apr-15  9710.93  9758.99  9682.11  9713.07  383624969           2.14   \n",
       "249  27-Apr-15  9725.17  9737.68  9668.19  9710.93  378748998         -14.24   \n",
       "\n",
       "     change_percentage  \n",
       "0             0.011423  \n",
       "1            -0.002990  \n",
       "2             0.016381  \n",
       "3             0.001950  \n",
       "4            -0.015072  \n",
       "5             0.010290  \n",
       "6             0.005967  \n",
       "7             0.014370  \n",
       "8            -0.005479  \n",
       "9             0.013875  \n",
       "10            0.007116  \n",
       "11            0.002010  \n",
       "12           -0.001584  \n",
       "13            0.013652  \n",
       "14           -0.015835  \n",
       "15            0.001202  \n",
       "16            0.006244  \n",
       "17           -0.014873  \n",
       "18            0.001919  \n",
       "19           -0.015059  \n",
       "20           -0.017333  \n",
       "21           -0.003204  \n",
       "22           -0.000683  \n",
       "23            0.000580  \n",
       "24            0.013526  \n",
       "25            0.013901  \n",
       "26            0.011591  \n",
       "27           -0.008922  \n",
       "28           -0.012883  \n",
       "29            0.002328  \n",
       "..                 ...  \n",
       "220          -0.008353  \n",
       "221          -0.001102  \n",
       "222          -0.003922  \n",
       "223           0.002380  \n",
       "224           0.000504  \n",
       "225          -0.007058  \n",
       "226           0.000384  \n",
       "227          -0.004930  \n",
       "228           0.007595  \n",
       "229          -0.000572  \n",
       "230          -0.003655  \n",
       "231           0.003766  \n",
       "232          -0.008202  \n",
       "233           0.000331  \n",
       "234          -0.000691  \n",
       "235           0.008468  \n",
       "236           0.006121  \n",
       "237           0.004607  \n",
       "238           0.004588  \n",
       "239          -0.013282  \n",
       "240          -0.000760  \n",
       "241          -0.006564  \n",
       "242           0.003134  \n",
       "243          -0.003689  \n",
       "244           0.002326  \n",
       "245          -0.007195  \n",
       "246           0.002246  \n",
       "247           0.010123  \n",
       "248           0.000220  \n",
       "249          -0.001466  \n",
       "\n",
       "[250 rows x 8 columns]"
      ]
     },
     "execution_count": 77,
     "metadata": {},
     "output_type": "execute_result"
    }
   ],
   "source": [
    "stocks_data[\"change_amount\"] = stocks_data[\"Close\"] - stocks_data[\"Open\"]\n",
    "stocks_data[\"change_percentage\"] = stocks_data[\"change_amount\"] / stocks_data[\"Close\"]\n",
    "stocks_data"
   ]
  },
  {
   "cell_type": "code",
   "execution_count": 85,
   "metadata": {
    "collapsed": false
   },
   "outputs": [
    {
     "data": {
      "text/plain": [
       "<matplotlib.axes._subplots.AxesSubplot at 0x12aa9b9ea58>"
      ]
     },
     "execution_count": 85,
     "metadata": {},
     "output_type": "execute_result"
    },
    {
     "data": {
      "image/png": "[encoded data removed]",
      "text/plain": [
       "<matplotlib.figure.Figure at 0x12aa9ba54e0>"
      ]
     },
     "metadata": {},
     "output_type": "display_data"
    }
   ],
   "source": [
    "stocks_data[[\"High\", \"Low\"]].plot()"
   ]
  },
  {
   "cell_type": "code",
   "execution_count": 86,
   "metadata": {
    "collapsed": true
   },
   "outputs": [],
   "source": [
    "from sympy import *"
   ]
  },
  {
   "cell_type": "code",
   "execution_count": 88,
   "metadata": {
    "collapsed": false
   },
   "outputs": [],
   "source": [
    "x, y = symbols(\"x y\")"
   ]
  },
  {
   "cell_type": "code",
   "execution_count": 91,
   "metadata": {
    "collapsed": true
   },
   "outputs": [],
   "source": [
    "init_printing(use_latex=\"mathjax\")"
   ]
  },
  {
   "cell_type": "code",
   "execution_count": 89,
   "metadata": {
    "collapsed": true
   },
   "outputs": [],
   "source": [
    "expr = x**2 + y ** 2"
   ]
  },
  {
   "cell_type": "code",
   "execution_count": 92,
   "metadata": {
    "collapsed": false
   },
   "outputs": [
    {
     "data": {
      "text/latex": [
       "$$x^{2} + y^{2}$$"
      ],
      "text/plain": [
       " 2    2\n",
       "x  + y "
      ]
     },
     "execution_count": 92,
     "metadata": {},
     "output_type": "execute_result"
    }
   ],
   "source": [
    "expr"
   ]
  },
  {
   "cell_type": "code",
   "execution_count": 94,
   "metadata": {
    "collapsed": false
   },
   "outputs": [
    {
     "data": {
      "text/latex": [
       "$$\\left(x + y\\right)^{3}$$"
      ],
      "text/plain": [
       "       3\n",
       "(x + y) "
      ]
     },
     "execution_count": 94,
     "metadata": {},
     "output_type": "execute_result"
    }
   ],
   "source": [
    "expr = (x+y)**3\n",
    "expr"
   ]
  },
  {
   "cell_type": "code",
   "execution_count": 95,
   "metadata": {
    "collapsed": true
   },
   "outputs": [],
   "source": [
    "a = Symbol(\"a\")\n",
    "a.is_imaginary"
   ]
  },
  {
   "cell_type": "code",
   "execution_count": 96,
   "metadata": {
    "collapsed": false
   },
   "outputs": [
    {
     "data": {
      "text/plain": [
       "False"
      ]
     },
     "execution_count": 96,
     "metadata": {},
     "output_type": "execute_result"
    }
   ],
   "source": [
    "b = Symbol(\"b\", integer=True)\n",
    "b.is_imaginary"
   ]
  },
  {
   "cell_type": "code",
   "execution_count": 97,
   "metadata": {
    "collapsed": false
   },
   "outputs": [
    {
     "data": {
      "text/plain": [
       "True"
      ]
     },
     "execution_count": 97,
     "metadata": {},
     "output_type": "execute_result"
    }
   ],
   "source": [
    "c = Symbol(\"c\", positive=True)\n",
    "c.is_positive"
   ]
  },
  {
   "cell_type": "code",
   "execution_count": 98,
   "metadata": {
    "collapsed": false
   },
   "outputs": [
    {
     "data": {
      "text/plain": [
       "False"
      ]
     },
     "execution_count": 98,
     "metadata": {},
     "output_type": "execute_result"
    }
   ],
   "source": [
    "c.is_imaginary"
   ]
  },
  {
   "cell_type": "code",
   "execution_count": 99,
   "metadata": {
    "collapsed": false
   },
   "outputs": [
    {
     "data": {
      "text/latex": [
       "$$i$$"
      ],
      "text/plain": [
       "ⅈ"
      ]
     },
     "execution_count": 99,
     "metadata": {},
     "output_type": "execute_result"
    }
   ],
   "source": [
    "I"
   ]
  },
  {
   "cell_type": "code",
   "execution_count": 100,
   "metadata": {
    "collapsed": false
   },
   "outputs": [
    {
     "data": {
      "text/latex": [
       "$$-1$$"
      ],
      "text/plain": [
       "-1"
      ]
     },
     "execution_count": 100,
     "metadata": {},
     "output_type": "execute_result"
    }
   ],
   "source": [
    "I ** 2"
   ]
  },
  {
   "cell_type": "code",
   "execution_count": 101,
   "metadata": {
    "collapsed": false
   },
   "outputs": [
    {
     "data": {
      "text/latex": [
       "$$\\frac{1}{3}$$"
      ],
      "text/plain": [
       "1/3"
      ]
     },
     "execution_count": 101,
     "metadata": {},
     "output_type": "execute_result"
    }
   ],
   "source": [
    "Rational(1,3)"
   ]
  },
  {
   "cell_type": "code",
   "execution_count": 103,
   "metadata": {
    "collapsed": false
   },
   "outputs": [
    {
     "data": {
      "text/latex": [
       "$$\\frac{5}{6}$$"
      ],
      "text/plain": [
       "5/6"
      ]
     },
     "execution_count": 103,
     "metadata": {},
     "output_type": "execute_result"
    }
   ],
   "source": [
    "Rational(1,3) + Rational(1,2)"
   ]
  },
  {
   "cell_type": "code",
   "execution_count": 105,
   "metadata": {
    "collapsed": false
   },
   "outputs": [
    {
     "data": {
      "text/latex": [
       "$$0.833333333333333$$"
      ],
      "text/plain": [
       "0.833333333333333"
      ]
     },
     "execution_count": 105,
     "metadata": {},
     "output_type": "execute_result"
    }
   ],
   "source": [
    "expr = Rational(1,3) + Rational(1,2)\n",
    "N(expr) #evaluate"
   ]
  },
  {
   "cell_type": "code",
   "execution_count": 106,
   "metadata": {
    "collapsed": false
   },
   "outputs": [
    {
     "data": {
      "text/latex": [
       "$$3.141592653589793238462643383279502884197169399375105820974944592307816406286208998628034825342117068$$"
      ],
      "text/plain": [
       "3.1415926535897932384626433832795028841971693993751058209749445923078164062862\n",
       "08998628034825342117068"
      ]
     },
     "execution_count": 106,
     "metadata": {},
     "output_type": "execute_result"
    }
   ],
   "source": [
    "N(pi, 100)"
   ]
  },
  {
   "cell_type": "code",
   "execution_count": 107,
   "metadata": {
    "collapsed": false
   },
   "outputs": [
    {
     "data": {
      "text/latex": [
       "$$3.141592653589793238462643383279502884197169399375105820974944592307816406286208998628034825342117068$$"
      ],
      "text/plain": [
       "3.1415926535897932384626433832795028841971693993751058209749445923078164062862\n",
       "08998628034825342117068"
      ]
     },
     "execution_count": 107,
     "metadata": {},
     "output_type": "execute_result"
    }
   ],
   "source": [
    "pi.evalf(100)"
   ]
  },
  {
   "cell_type": "code",
   "execution_count": 108,
   "metadata": {
    "collapsed": false
   },
   "outputs": [
    {
     "data": {
      "text/latex": [
       "$$x^{2} + 2 x + 1$$"
      ],
      "text/plain": [
       " 2          \n",
       "x  + 2⋅x + 1"
      ]
     },
     "execution_count": 108,
     "metadata": {},
     "output_type": "execute_result"
    }
   ],
   "source": [
    "expr = x**2 + 2*x + 1\n",
    "expr"
   ]
  },
  {
   "cell_type": "code",
   "execution_count": 109,
   "metadata": {
    "collapsed": false
   },
   "outputs": [
    {
     "data": {
      "text/latex": [
       "$$4$$"
      ],
      "text/plain": [
       "4"
      ]
     },
     "execution_count": 109,
     "metadata": {},
     "output_type": "execute_result"
    }
   ],
   "source": [
    "expr.subs(x, 1)"
   ]
  },
  {
   "cell_type": "code",
   "execution_count": 110,
   "metadata": {
    "collapsed": true
   },
   "outputs": [],
   "source": [
    "expr = pi * x**2"
   ]
  },
  {
   "cell_type": "code",
   "execution_count": 111,
   "metadata": {
    "collapsed": false
   },
   "outputs": [
    {
     "data": {
      "text/latex": [
       "$$\\pi x^{2}$$"
      ],
      "text/plain": [
       "   2\n",
       "π⋅x "
      ]
     },
     "execution_count": 111,
     "metadata": {},
     "output_type": "execute_result"
    }
   ],
   "source": [
    "expr"
   ]
  },
  {
   "cell_type": "code",
   "execution_count": 112,
   "metadata": {
    "collapsed": false
   },
   "outputs": [
    {
     "data": {
      "text/latex": [
       "$$9 \\pi$$"
      ],
      "text/plain": [
       "9⋅π"
      ]
     },
     "execution_count": 112,
     "metadata": {},
     "output_type": "execute_result"
    }
   ],
   "source": [
    "expr.subs(x, 3)"
   ]
  },
  {
   "cell_type": "code",
   "execution_count": 113,
   "metadata": {
    "collapsed": false
   },
   "outputs": [
    {
     "data": {
      "text/latex": [
       "$$28.2743338823081$$"
      ],
      "text/plain": [
       "28.2743338823081"
      ]
     },
     "execution_count": 113,
     "metadata": {},
     "output_type": "execute_result"
    }
   ],
   "source": [
    "N(_)#eval last ouput"
   ]
  },
  {
   "cell_type": "code",
   "execution_count": 114,
   "metadata": {
    "collapsed": false
   },
   "outputs": [
    {
     "data": {
      "text/latex": [
       "$$\\left(x + y\\right)^{2}$$"
      ],
      "text/plain": [
       "       2\n",
       "(x + y) "
      ]
     },
     "execution_count": 114,
     "metadata": {},
     "output_type": "execute_result"
    }
   ],
   "source": [
    "expr = (x + y) ** 2\n",
    "expr"
   ]
  },
  {
   "cell_type": "code",
   "execution_count": 115,
   "metadata": {
    "collapsed": false
   },
   "outputs": [
    {
     "data": {
      "text/latex": [
       "$$x^{2} + 2 x y + y^{2}$$"
      ],
      "text/plain": [
       " 2            2\n",
       "x  + 2⋅x⋅y + y "
      ]
     },
     "execution_count": 115,
     "metadata": {},
     "output_type": "execute_result"
    }
   ],
   "source": [
    "expand(expr)"
   ]
  },
  {
   "cell_type": "code",
   "execution_count": 116,
   "metadata": {
    "collapsed": false
   },
   "outputs": [
    {
     "data": {
      "text/latex": [
       "$$\\left(x + y\\right)^{2}$$"
      ],
      "text/plain": [
       "       2\n",
       "(x + y) "
      ]
     },
     "execution_count": 116,
     "metadata": {},
     "output_type": "execute_result"
    }
   ],
   "source": [
    "factor(_)"
   ]
  },
  {
   "cell_type": "code",
   "execution_count": 117,
   "metadata": {
    "collapsed": true
   },
   "outputs": [],
   "source": [
    "expr = (2*x + Rational(1,3) *x + 4) /x"
   ]
  },
  {
   "cell_type": "code",
   "execution_count": 118,
   "metadata": {
    "collapsed": false
   },
   "outputs": [
    {
     "data": {
      "text/latex": [
       "$$\\frac{1}{x} \\left(\\frac{7 x}{3} + 4\\right)$$"
      ],
      "text/plain": [
       "7⋅x    \n",
       "─── + 4\n",
       " 3     \n",
       "───────\n",
       "   x   "
      ]
     },
     "execution_count": 118,
     "metadata": {},
     "output_type": "execute_result"
    }
   ],
   "source": [
    "expr"
   ]
  },
  {
   "cell_type": "code",
   "execution_count": 119,
   "metadata": {
    "collapsed": false
   },
   "outputs": [
    {
     "data": {
      "text/latex": [
       "$$\\frac{7}{3} + \\frac{4}{x}$$"
      ],
      "text/plain": [
       "7   4\n",
       "─ + ─\n",
       "3   x"
      ]
     },
     "execution_count": 119,
     "metadata": {},
     "output_type": "execute_result"
    }
   ],
   "source": [
    "simplify(expr)"
   ]
  },
  {
   "cell_type": "code",
   "execution_count": 120,
   "metadata": {
    "collapsed": false
   },
   "outputs": [
    {
     "data": {
      "text/latex": [
       "$$\\frac{7}{3} + \\frac{4}{x}$$"
      ],
      "text/plain": [
       "7   4\n",
       "─ + ─\n",
       "3   x"
      ]
     },
     "execution_count": 120,
     "metadata": {},
     "output_type": "execute_result"
    }
   ],
   "source": [
    "expr = \"(2*x + 1/3*x + 4)/x\"\n",
    "simplify(expr)"
   ]
  },
  {
   "cell_type": "code",
   "execution_count": 122,
   "metadata": {
    "collapsed": false
   },
   "outputs": [
    {
     "data": {
      "text/latex": [
       "$$\\frac{\\sin{\\left (x \\right )}}{\\cos{\\left (x \\right )}}$$"
      ],
      "text/plain": [
       "sin(x)\n",
       "──────\n",
       "cos(x)"
      ]
     },
     "execution_count": 122,
     "metadata": {},
     "output_type": "execute_result"
    }
   ],
   "source": [
    "expr = sin(x)/cos(x)\n",
    "expr"
   ]
  },
  {
   "cell_type": "code",
   "execution_count": 123,
   "metadata": {
    "collapsed": false
   },
   "outputs": [
    {
     "data": {
      "text/latex": [
       "$$\\tan{\\left (x \\right )}$$"
      ],
      "text/plain": [
       "tan(x)"
      ]
     },
     "execution_count": 123,
     "metadata": {},
     "output_type": "execute_result"
    }
   ],
   "source": [
    "simplify(expr)"
   ]
  },
  {
   "cell_type": "code",
   "execution_count": 124,
   "metadata": {
    "collapsed": true
   },
   "outputs": [],
   "source": [
    "expr = 1/(x**2 + 2*x)"
   ]
  },
  {
   "cell_type": "code",
   "execution_count": 125,
   "metadata": {
    "collapsed": false
   },
   "outputs": [
    {
     "data": {
      "text/latex": [
       "$$\\frac{1}{x^{2} + 2 x}$$"
      ],
      "text/plain": [
       "   1    \n",
       "────────\n",
       " 2      \n",
       "x  + 2⋅x"
      ]
     },
     "execution_count": 125,
     "metadata": {},
     "output_type": "execute_result"
    }
   ],
   "source": [
    "expr"
   ]
  },
  {
   "cell_type": "code",
   "execution_count": 126,
   "metadata": {
    "collapsed": false
   },
   "outputs": [
    {
     "data": {
      "text/latex": [
       "$$- \\frac{1}{2 x + 4} + \\frac{1}{2 x}$$"
      ],
      "text/plain": [
       "      1        1 \n",
       "- ───────── + ───\n",
       "  2⋅(x + 2)   2⋅x"
      ]
     },
     "execution_count": 126,
     "metadata": {},
     "output_type": "execute_result"
    }
   ],
   "source": [
    "apart(expr)"
   ]
  },
  {
   "cell_type": "code",
   "execution_count": 127,
   "metadata": {
    "collapsed": false
   },
   "outputs": [
    {
     "data": {
      "text/latex": [
       "$$\\frac{1}{x \\left(x + 2\\right)}$$"
      ],
      "text/plain": [
       "    1    \n",
       "─────────\n",
       "x⋅(x + 2)"
      ]
     },
     "execution_count": 127,
     "metadata": {},
     "output_type": "execute_result"
    }
   ],
   "source": [
    "together(_)"
   ]
  },
  {
   "cell_type": "code",
   "execution_count": 128,
   "metadata": {
    "collapsed": false
   },
   "outputs": [
    {
     "data": {
      "text/latex": [
       "$$\\cos{\\left (x \\right )}$$"
      ],
      "text/plain": [
       "cos(x)"
      ]
     },
     "execution_count": 128,
     "metadata": {},
     "output_type": "execute_result"
    }
   ],
   "source": [
    "diff(sin(x), x)"
   ]
  },
  {
   "cell_type": "code",
   "execution_count": 129,
   "metadata": {
    "collapsed": false
   },
   "outputs": [
    {
     "data": {
      "text/latex": [
       "$$\\frac{2 x}{x^{2} + 1} + 2$$"
      ],
      "text/plain": [
       " 2⋅x      \n",
       "────── + 2\n",
       " 2        \n",
       "x  + 1    "
      ]
     },
     "execution_count": 129,
     "metadata": {},
     "output_type": "execute_result"
    }
   ],
   "source": [
    "diff(log(x**2 + 1) + 2*x, x)"
   ]
  },
  {
   "cell_type": "code",
   "execution_count": 130,
   "metadata": {
    "collapsed": false
   },
   "outputs": [
    {
     "data": {
      "text/latex": [
       "$$\\sin{\\left (x \\right )}$$"
      ],
      "text/plain": [
       "sin(x)"
      ]
     },
     "execution_count": 130,
     "metadata": {},
     "output_type": "execute_result"
    }
   ],
   "source": [
    "integrate(cos(x), x)"
   ]
  },
  {
   "cell_type": "code",
   "execution_count": 131,
   "metadata": {
    "collapsed": false
   },
   "outputs": [
    {
     "data": {
      "text/latex": [
       "$$\\int_{0}^{\\pi} \\sin{\\left (x \\right )}\\, dx$$"
      ],
      "text/plain": [
       "π          \n",
       "⌠          \n",
       "⎮ sin(x) dx\n",
       "⌡          \n",
       "0          "
      ]
     },
     "execution_count": 131,
     "metadata": {},
     "output_type": "execute_result"
    }
   ],
   "source": [
    "Integral(sin(x), (x,0,pi))"
   ]
  },
  {
   "cell_type": "code",
   "execution_count": 132,
   "metadata": {
    "collapsed": false
   },
   "outputs": [
    {
     "data": {
      "text/latex": [
       "$$2.0$$"
      ],
      "text/plain": [
       "2.00000000000000"
      ]
     },
     "execution_count": 132,
     "metadata": {},
     "output_type": "execute_result"
    }
   ],
   "source": [
    "N(_)"
   ]
  },
  {
   "cell_type": "code",
   "execution_count": 133,
   "metadata": {
    "collapsed": true
   },
   "outputs": [],
   "source": [
    "expr = Sum(1/(x**2 + 2*x), (x, 1, 10))"
   ]
  },
  {
   "cell_type": "code",
   "execution_count": 134,
   "metadata": {
    "collapsed": false
   },
   "outputs": [
    {
     "data": {
      "text/latex": [
       "$$\\sum_{x=1}^{10} \\frac{1}{x^{2} + 2 x}$$"
      ],
      "text/plain": [
       "  10          \n",
       " ____         \n",
       " ╲            \n",
       "  ╲      1    \n",
       "   ╲  ────────\n",
       "   ╱   2      \n",
       "  ╱   x  + 2⋅x\n",
       " ╱            \n",
       " ‾‾‾‾         \n",
       "x = 1         "
      ]
     },
     "execution_count": 134,
     "metadata": {},
     "output_type": "execute_result"
    }
   ],
   "source": [
    "expr"
   ]
  },
  {
   "cell_type": "code",
   "execution_count": 135,
   "metadata": {
    "collapsed": false
   },
   "outputs": [
    {
     "data": {
      "text/latex": [
       "$$\\prod_{x=1}^{10} \\frac{1}{x^{2} + 2 x}$$"
      ],
      "text/plain": [
       "    10             \n",
       "┬────────┬         \n",
       "│        │    1    \n",
       "│        │ ────────\n",
       "│        │  2      \n",
       "│        │ x  + 2⋅x\n",
       "│        │         \n",
       "  x = 1            "
      ]
     },
     "execution_count": 135,
     "metadata": {},
     "output_type": "execute_result"
    }
   ],
   "source": [
    "expr = Product(1/(x**2 + 2*x), (x, 1, 10))\n",
    "expr"
   ]
  },
  {
   "cell_type": "code",
   "execution_count": 137,
   "metadata": {
    "collapsed": false
   },
   "outputs": [
    {
     "data": {
      "text/latex": [
       "$$\\frac{1}{869100503040000}$$"
      ],
      "text/plain": [
       "1/869100503040000"
      ]
     },
     "execution_count": 137,
     "metadata": {},
     "output_type": "execute_result"
    }
   ],
   "source": [
    "expr.doit()"
   ]
  },
  {
   "cell_type": "code",
   "execution_count": 138,
   "metadata": {
    "collapsed": false
   },
   "outputs": [
    {
     "data": {
      "text/latex": [
       "$$\\left [ - \\frac{1}{2}\\right ]$$"
      ],
      "text/plain": [
       "[-1/2]"
      ]
     },
     "execution_count": 138,
     "metadata": {},
     "output_type": "execute_result"
    }
   ],
   "source": [
    "expr = 2*x + 1\n",
    "solve(expr)"
   ]
  },
  {
   "cell_type": "code",
   "execution_count": 139,
   "metadata": {
    "collapsed": false
   },
   "outputs": [
    {
     "data": {
      "text/latex": [
       "$$\\left [ -1, \\quad 1\\right ]$$"
      ],
      "text/plain": [
       "[-1, 1]"
      ]
     },
     "execution_count": 139,
     "metadata": {},
     "output_type": "execute_result"
    }
   ],
   "source": [
    "expr = x**2 - 1\n",
    "solve(expr)"
   ]
  },
  {
   "cell_type": "code",
   "execution_count": 140,
   "metadata": {
    "collapsed": false
   },
   "outputs": [
    {
     "data": {
      "text/latex": [
       "$$\\left \\{ x : -1, \\quad y : 2\\right \\}$$"
      ],
      "text/plain": [
       "{x: -1, y: 2}"
      ]
     },
     "execution_count": 140,
     "metadata": {},
     "output_type": "execute_result"
    }
   ],
   "source": [
    "expr_1 = 2*x + y\n",
    "expr_2 = 2*y - x - 5\n",
    "solve([expr_1, expr_2], (x,y))"
   ]
  },
  {
   "cell_type": "code",
   "execution_count": 141,
   "metadata": {
    "collapsed": true
   },
   "outputs": [],
   "source": [
    "from sympy.physics import units as u"
   ]
  },
  {
   "cell_type": "code",
   "execution_count": 143,
   "metadata": {
    "collapsed": false
   },
   "outputs": [
    {
     "data": {
      "text/latex": [
       "$$5.0 \\cdot 10^{-6} kg$$"
      ],
      "text/plain": [
       "5.0e-6⋅kg"
      ]
     },
     "execution_count": 143,
     "metadata": {},
     "output_type": "execute_result"
    }
   ],
   "source": [
    "5. * u.milligram"
   ]
  },
  {
   "cell_type": "code",
   "execution_count": 144,
   "metadata": {
    "collapsed": false
   },
   "outputs": [
    {
     "data": {
      "text/latex": [
       "$$0.0127 m$$"
      ],
      "text/plain": [
       "0.0127⋅m"
      ]
     },
     "execution_count": 144,
     "metadata": {},
     "output_type": "execute_result"
    }
   ],
   "source": [
    "1./2 * u.inch"
   ]
  },
  {
   "cell_type": "code",
   "execution_count": 145,
   "metadata": {
    "collapsed": false
   },
   "outputs": [
    {
     "data": {
      "text/latex": [
       "$$1.0 \\cdot 10^{-9}$$"
      ],
      "text/plain": [
       "1.00000000000000e-9"
      ]
     },
     "execution_count": 145,
     "metadata": {},
     "output_type": "execute_result"
    }
   ],
   "source": [
    "1. * u.nano"
   ]
  },
  {
   "cell_type": "code",
   "execution_count": 146,
   "metadata": {
    "collapsed": false
   },
   "outputs": [
    {
     "data": {
      "text/latex": [
       "$$\\frac{kg m^{2}}{s^{3}}$$"
      ],
      "text/plain": [
       "    2\n",
       "kg⋅m \n",
       "─────\n",
       "   3 \n",
       "  s  "
      ]
     },
     "execution_count": 146,
     "metadata": {},
     "output_type": "execute_result"
    }
   ],
   "source": [
    "u.watt"
   ]
  },
  {
   "cell_type": "code",
   "execution_count": 147,
   "metadata": {
    "collapsed": false
   },
   "outputs": [
    {
     "data": {
      "text/latex": [
       "$$\\frac{kg m^{2}}{A^{2} s^{3}}$$"
      ],
      "text/plain": [
       "    2\n",
       "kg⋅m \n",
       "─────\n",
       " 2  3\n",
       "A ⋅s "
      ]
     },
     "execution_count": 147,
     "metadata": {},
     "output_type": "execute_result"
    }
   ],
   "source": [
    "u.ohm"
   ]
  },
  {
   "cell_type": "code",
   "execution_count": 148,
   "metadata": {
    "collapsed": false
   },
   "outputs": [
    {
     "data": {
      "text/latex": [
       "$$1.609344$$"
      ],
      "text/plain": [
       "1.60934400000000"
      ]
     },
     "execution_count": 148,
     "metadata": {},
     "output_type": "execute_result"
    }
   ],
   "source": [
    "kmph = u.km / u.hour\n",
    "mph = u.mile / u.hour\n",
    "N(mph / kmph)"
   ]
  },
  {
   "cell_type": "code",
   "execution_count": 149,
   "metadata": {
    "collapsed": false
   },
   "outputs": [
    {
     "data": {
      "text/latex": [
       "$$128.74752$$"
      ],
      "text/plain": [
       "128.747520000000"
      ]
     },
     "execution_count": 149,
     "metadata": {},
     "output_type": "execute_result"
    }
   ],
   "source": [
    "80 * N(mph/kmph)"
   ]
  },
  {
   "cell_type": "code",
   "execution_count": 151,
   "metadata": {
    "collapsed": true
   },
   "outputs": [],
   "source": [
    "from sympy.plotting import plot, plot_parametric"
   ]
  },
  {
   "cell_type": "code",
   "execution_count": 153,
   "metadata": {
    "collapsed": false
   },
   "outputs": [
    {
     "data": {
      "image/png": "[encoded data removed]",
      "text/plain": [
       "<matplotlib.figure.Figure at 0x12aaa639eb8>"
      ]
     },
     "metadata": {},
     "output_type": "display_data"
    },
    {
     "data": {
      "text/plain": [
       "<sympy.plotting.plot.Plot at 0x12aaa639e80>"
      ]
     },
     "execution_count": 153,
     "metadata": {},
     "output_type": "execute_result"
    }
   ],
   "source": [
    "expr = sin(2*sin(x**3))\n",
    "plot(expr, (x, 0, 5))"
   ]
  },
  {
   "cell_type": "code",
   "execution_count": 154,
   "metadata": {
    "collapsed": true
   },
   "outputs": [],
   "source": [
    "def sympy_expr(x_val):\n",
    "    expr = x**2 + sqrt(3)*x - Rational(1,3)\n",
    "    return expr.subs(x, x_val)"
   ]
  },
  {
   "cell_type": "code",
   "execution_count": 155,
   "metadata": {
    "collapsed": false
   },
   "outputs": [
    {
     "data": {
      "text/latex": [
       "$$3 \\sqrt{3} + \\frac{26}{3}$$"
      ],
      "text/plain": [
       "3⋅√3 + 26/3"
      ]
     },
     "execution_count": 155,
     "metadata": {},
     "output_type": "execute_result"
    }
   ],
   "source": [
    "sympy_expr(3)"
   ]
  },
  {
   "cell_type": "code",
   "execution_count": 156,
   "metadata": {
    "collapsed": true
   },
   "outputs": [],
   "source": [
    "list1 = np.arange(1, 1000)\n",
    "list2 = pd.Series(list1)"
   ]
  },
  {
   "cell_type": "code",
   "execution_count": 157,
   "metadata": {
    "collapsed": false
   },
   "outputs": [
    {
     "name": "stdout",
     "output_type": "stream",
     "text": [
      "1 loop, best of 3: 764 ms per loop\n",
      "1 loop, best of 3: 764 ms per loop\n"
     ]
    }
   ],
   "source": [
    "%timeit [sympy_expr(item) for item in list1]\n",
    "%timeit [sympy_expr(item) for item in list2]"
   ]
  },
  {
   "cell_type": "code",
   "execution_count": 158,
   "metadata": {
    "collapsed": false
   },
   "outputs": [
    {
     "name": "stdout",
     "output_type": "stream",
     "text": [
      "1 loop, best of 3: 596 ms per loop\n",
      "1 loop, best of 3: 773 ms per loop\n"
     ]
    }
   ],
   "source": [
    "%timeit np.vectorize(sympy_expr)(list1)\n",
    "%timeit list2.apply(sympy_expr)"
   ]
  },
  {
   "cell_type": "code",
   "execution_count": 159,
   "metadata": {
    "collapsed": true
   },
   "outputs": [],
   "source": [
    "expr = x**2 + sqrt(3)*x - Rational(1,3)\n",
    "lf = lambdify(x, expr)"
   ]
  },
  {
   "cell_type": "code",
   "execution_count": 160,
   "metadata": {
    "collapsed": false
   },
   "outputs": [
    {
     "name": "stdout",
     "output_type": "stream",
     "text": [
      "The slowest run took 8.65 times longer than the fastest. This could mean that an intermediate result is being cached.\n",
      "100000 loops, best of 3: 12.3 µs per loop\n",
      "1000 loops, best of 3: 295 µs per loop\n"
     ]
    }
   ],
   "source": [
    "%timeit lf(list1)\n",
    "%timeit lf(list2)"
   ]
  },
  {
   "cell_type": "code",
   "execution_count": 161,
   "metadata": {
    "collapsed": false
   },
   "outputs": [
    {
     "data": {
      "image/png": "[encoded data removed]",
      "text/plain": [
       "<matplotlib.figure.Figure at 0x12aabed2f98>"
      ]
     },
     "metadata": {},
     "output_type": "display_data"
    }
   ],
   "source": [
    "fig = plt.figure()\n",
    "axes = fig.add_subplot(111)\n",
    "\n",
    "x_vals = np.linspace(-5.,5.)\n",
    "y_vals = lf(x_vals)\n",
    "\n",
    "axes.grid()\n",
    "axes.plot(x_vals, y_vals)\n",
    "\n",
    "plt.show();"
   ]
  },
  {
   "cell_type": "code",
   "execution_count": null,
   "metadata": {
    "collapsed": true
   },
   "outputs": [],
   "source": []
  }
 ],
 "metadata": {
  "kernelspec": {
   "display_name": "Python 3",
   "language": "python",
   "name": "python3"
  },
  "language_info": {
   "codemirror_mode": {
    "name": "ipython",
    "version": 3
   },
   "file_extension": ".py",
   "mimetype": "text/x-python",
   "name": "python",
   "nbconvert_exporter": "python",
   "pygments_lexer": "ipython3",
   "version": "3.5.1"
  }
 },
 "nbformat": 4,
 "nbformat_minor": 0
}
